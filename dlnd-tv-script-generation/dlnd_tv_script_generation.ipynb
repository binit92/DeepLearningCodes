{
 "cells": [
  {
   "cell_type": "markdown",
   "metadata": {},
   "source": [
    "# TV Script Generation\n",
    "In this project, you'll generate your own [Simpsons](https://en.wikipedia.org/wiki/The_Simpsons) TV scripts using RNNs.  You'll be using part of the [Simpsons dataset](https://www.kaggle.com/wcukierski/the-simpsons-by-the-data) of scripts from 27 seasons.  The Neural Network you'll build will generate a new TV script for a scene at [Moe's Tavern](https://simpsonswiki.com/wiki/Moe's_Tavern).\n",
    "## Get the Data\n",
    "The data is already provided for you.  You'll be using a subset of the original dataset.  It consists of only the scenes in Moe's Tavern.  This doesn't include other versions of the tavern, like \"Moe's Cavern\", \"Flaming Moe's\", \"Uncle Moe's Family Feed-Bag\", etc.."
   ]
  },
  {
   "cell_type": "code",
   "execution_count": 22,
   "metadata": {
    "collapsed": true
   },
   "outputs": [],
   "source": [
    "\"\"\"\n",
    "DON'T MODIFY ANYTHING IN THIS CELL\n",
    "\"\"\"\n",
    "import helper\n",
    "\n",
    "data_dir = './data/simpsons/moes_tavern_lines.txt'\n",
    "text = helper.load_data(data_dir)\n",
    "# Ignore notice, since we don't use it for analysing the data\n",
    "text = text[81:]"
   ]
  },
  {
   "cell_type": "markdown",
   "metadata": {},
   "source": [
    "## Explore the Data\n",
    "Play around with `view_sentence_range` to view different parts of the data."
   ]
  },
  {
   "cell_type": "code",
   "execution_count": 23,
   "metadata": {},
   "outputs": [
    {
     "name": "stdout",
     "output_type": "stream",
     "text": [
      "Dataset Stats\n",
      "Roughly the number of unique words: 11492\n",
      "Number of scenes: 262\n",
      "Average number of sentences in each scene: 15.248091603053435\n",
      "Number of lines: 4257\n",
      "Average number of words in each line: 11.50434578341555\n",
      "\n",
      "The sentences 0 to 10:\n",
      "Moe_Szyslak: (INTO PHONE) Moe's Tavern. Where the elite meet to drink.\n",
      "Bart_Simpson: Eh, yeah, hello, is Mike there? Last name, Rotch.\n",
      "Moe_Szyslak: (INTO PHONE) Hold on, I'll check. (TO BARFLIES) Mike Rotch. Mike Rotch. Hey, has anybody seen Mike Rotch, lately?\n",
      "Moe_Szyslak: (INTO PHONE) Listen you little puke. One of these days I'm gonna catch you, and I'm gonna carve my name on your back with an ice pick.\n",
      "Moe_Szyslak: What's the matter Homer? You're not your normal effervescent self.\n",
      "Homer_Simpson: I got my problems, Moe. Give me another one.\n",
      "Moe_Szyslak: Homer, hey, you should not drink to forget your problems.\n",
      "Barney_Gumble: Yeah, you should only drink to enhance your social skills.\n",
      "\n",
      "\n"
     ]
    }
   ],
   "source": [
    "view_sentence_range = (0, 10)\n",
    "\n",
    "\"\"\"\n",
    "DON'T MODIFY ANYTHING IN THIS CELL\n",
    "\"\"\"\n",
    "import numpy as np\n",
    "\n",
    "print('Dataset Stats')\n",
    "print('Roughly the number of unique words: {}'.format(len({word: None for word in text.split()})))\n",
    "scenes = text.split('\\n\\n')\n",
    "print('Number of scenes: {}'.format(len(scenes)))\n",
    "sentence_count_scene = [scene.count('\\n') for scene in scenes]\n",
    "print('Average number of sentences in each scene: {}'.format(np.average(sentence_count_scene)))\n",
    "\n",
    "sentences = [sentence for scene in scenes for sentence in scene.split('\\n')]\n",
    "print('Number of lines: {}'.format(len(sentences)))\n",
    "word_count_sentence = [len(sentence.split()) for sentence in sentences]\n",
    "print('Average number of words in each line: {}'.format(np.average(word_count_sentence)))\n",
    "\n",
    "print()\n",
    "print('The sentences {} to {}:'.format(*view_sentence_range))\n",
    "print('\\n'.join(text.split('\\n')[view_sentence_range[0]:view_sentence_range[1]]))"
   ]
  },
  {
   "cell_type": "markdown",
   "metadata": {},
   "source": [
    "## Implement Preprocessing Functions\n",
    "The first thing to do to any dataset is preprocessing.  Implement the following preprocessing functions below:\n",
    "- Lookup Table\n",
    "- Tokenize Punctuation\n",
    "\n",
    "### Lookup Table\n",
    "To create a word embedding, you first need to transform the words to ids.  In this function, create two dictionaries:\n",
    "- Dictionary to go from the words to an id, we'll call `vocab_to_int`\n",
    "- Dictionary to go from the id to word, we'll call `int_to_vocab`\n",
    "\n",
    "Return these dictionaries in the following tuple `(vocab_to_int, int_to_vocab)`"
   ]
  },
  {
   "cell_type": "code",
   "execution_count": 24,
   "metadata": {},
   "outputs": [
    {
     "name": "stdout",
     "output_type": "stream",
     "text": [
      "Tests Passed\n"
     ]
    }
   ],
   "source": [
    "import numpy as np\n",
    "import problem_unittests as tests\n",
    "\n",
    "def create_lookup_tables(text):\n",
    "    \"\"\"\n",
    "    Create lookup tables for vocabulary\n",
    "    :param text: The text of tv scripts split into words\n",
    "    :return: A tuple of dicts (vocab_to_int, int_to_vocab)\n",
    "    \"\"\"\n",
    "    # TODO: Implement Function\n",
    "    vocab = set(text)\n",
    "    vocab_to_int = {c: i for i, c in enumerate(vocab)}\n",
    "    int_to_vocab = {i: c for c, i in vocab_to_int.items()}\n",
    "    return (vocab_to_int, int_to_vocab)\n",
    "\n",
    "\n",
    "\"\"\"\n",
    "DON'T MODIFY ANYTHING IN THIS CELL THAT IS BELOW THIS LINE\n",
    "\"\"\"\n",
    "tests.test_create_lookup_tables(create_lookup_tables)"
   ]
  },
  {
   "cell_type": "markdown",
   "metadata": {},
   "source": [
    "### Tokenize Punctuation\n",
    "We'll be splitting the script into a word array using spaces as delimiters.  However, punctuations like periods and exclamation marks make it hard for the neural network to distinguish between the word \"bye\" and \"bye!\".\n",
    "\n",
    "Implement the function `token_lookup` to return a dict that will be used to tokenize symbols like \"!\" into \"||Exclamation_Mark||\".  Create a dictionary for the following symbols where the symbol is the key and value is the token:\n",
    "- Period ( . )\n",
    "- Comma ( , )\n",
    "- Quotation Mark ( \" )\n",
    "- Semicolon ( ; )\n",
    "- Exclamation mark ( ! )\n",
    "- Question mark ( ? )\n",
    "- Left Parentheses ( ( )\n",
    "- Right Parentheses ( ) )\n",
    "- Dash ( -- )\n",
    "- Return ( \\n )\n",
    "\n",
    "This dictionary will be used to token the symbols and add the delimiter (space) around it.  This separates the symbols as it's own word, making it easier for the neural network to predict on the next word. Make sure you don't use a token that could be confused as a word. Instead of using the token \"dash\", try using something like \"||dash||\"."
   ]
  },
  {
   "cell_type": "code",
   "execution_count": 25,
   "metadata": {},
   "outputs": [
    {
     "name": "stdout",
     "output_type": "stream",
     "text": [
      "Tests Passed\n"
     ]
    }
   ],
   "source": [
    "def token_lookup():\n",
    "    \"\"\"\n",
    "    Generate a dict to turn punctuation into a token.\n",
    "    :return: Tokenize dictionary where the key is the punctuation and the value is the token\n",
    "    \"\"\"\n",
    "    return {\n",
    "        '.'  : '||period||',\n",
    "        ','  : '||comma||',\n",
    "        '\"'  : '||quotationmark||',\n",
    "        ';'  : '||semicolon||',\n",
    "        '!'  : '||exclamationmark||',\n",
    "        '?'  : '||questionmark||',\n",
    "        '('  : '||leftparentheses',\n",
    "        ')'  : '||rightparentheses',\n",
    "        '--' : '||doubledash||',\n",
    "        '\\n' : '||return||'\n",
    "   }\n",
    "\n",
    "\"\"\"\n",
    "DON'T MODIFY ANYTHING IN THIS CELL THAT IS BELOW THIS LINE\n",
    "\"\"\"\n",
    "tests.test_tokenize(token_lookup)"
   ]
  },
  {
   "cell_type": "markdown",
   "metadata": {},
   "source": [
    "## Preprocess all the data and save it\n",
    "Running the code cell below will preprocess all the data and save it to file."
   ]
  },
  {
   "cell_type": "code",
   "execution_count": 26,
   "metadata": {
    "collapsed": true
   },
   "outputs": [],
   "source": [
    "\"\"\"\n",
    "DON'T MODIFY ANYTHING IN THIS CELL\n",
    "\"\"\"\n",
    "# Preprocess Training, Validation, and Testing Data\n",
    "helper.preprocess_and_save_data(data_dir, token_lookup, create_lookup_tables)"
   ]
  },
  {
   "cell_type": "markdown",
   "metadata": {},
   "source": [
    "# Check Point\n",
    "This is your first checkpoint. If you ever decide to come back to this notebook or have to restart the notebook, you can start from here. The preprocessed data has been saved to disk."
   ]
  },
  {
   "cell_type": "code",
   "execution_count": 27,
   "metadata": {
    "collapsed": true
   },
   "outputs": [],
   "source": [
    "\"\"\"\n",
    "DON'T MODIFY ANYTHING IN THIS CELL\n",
    "\"\"\"\n",
    "import helper\n",
    "import numpy as np\n",
    "import problem_unittests as tests\n",
    "\n",
    "int_text, vocab_to_int, int_to_vocab, token_dict = helper.load_preprocess()"
   ]
  },
  {
   "cell_type": "markdown",
   "metadata": {},
   "source": [
    "## Build the Neural Network\n",
    "You'll build the components necessary to build a RNN by implementing the following functions below:\n",
    "- get_inputs\n",
    "- get_init_cell\n",
    "- get_embed\n",
    "- build_rnn\n",
    "- build_nn\n",
    "- get_batches\n",
    "\n",
    "### Check the Version of TensorFlow and Access to GPU"
   ]
  },
  {
   "cell_type": "code",
   "execution_count": 28,
   "metadata": {},
   "outputs": [
    {
     "name": "stdout",
     "output_type": "stream",
     "text": [
      "TensorFlow Version: 1.2.0\n",
      "Default GPU Device: /gpu:0\n"
     ]
    }
   ],
   "source": [
    "\"\"\"\n",
    "DON'T MODIFY ANYTHING IN THIS CELL\n",
    "\"\"\"\n",
    "from distutils.version import LooseVersion\n",
    "import warnings\n",
    "import tensorflow as tf\n",
    "\n",
    "# Check TensorFlow Version\n",
    "assert LooseVersion(tf.__version__) >= LooseVersion('1.0'), 'Please use TensorFlow version 1.0 or newer'\n",
    "print('TensorFlow Version: {}'.format(tf.__version__))\n",
    "\n",
    "# Check for a GPU\n",
    "if not tf.test.gpu_device_name():\n",
    "    warnings.warn('No GPU found. Please use a GPU to train your neural network.')\n",
    "else:\n",
    "    print('Default GPU Device: {}'.format(tf.test.gpu_device_name()))"
   ]
  },
  {
   "cell_type": "markdown",
   "metadata": {},
   "source": [
    "### Input\n",
    "Implement the `get_inputs()` function to create TF Placeholders for the Neural Network.  It should create the following placeholders:\n",
    "- Input text placeholder named \"input\" using the [TF Placeholder](https://www.tensorflow.org/api_docs/python/tf/placeholder) `name` parameter.\n",
    "- Targets placeholder\n",
    "- Learning Rate placeholder\n",
    "\n",
    "Return the placeholders in the following tuple `(Input, Targets, LearningRate)`"
   ]
  },
  {
   "cell_type": "code",
   "execution_count": 29,
   "metadata": {},
   "outputs": [
    {
     "name": "stdout",
     "output_type": "stream",
     "text": [
      "Tests Passed\n"
     ]
    }
   ],
   "source": [
    "def get_inputs():\n",
    "    \"\"\"\n",
    "    Create TF Placeholders for input, targets, and learning rate.\n",
    "    :return: Tuple (input, targets, learning rate)\n",
    "    \"\"\"\n",
    "    inputs = tf.placeholder(tf.int32, shape=(None,None), name='input')\n",
    "    targets = tf.placeholder(tf.int32, shape=(None,None), name='targets')\n",
    "    learning_rate = tf.placeholder(tf.float32, name='learningrate')\n",
    "    return (inputs,targets,learning_rate)\n",
    "\n",
    "\n",
    "\"\"\"\n",
    "DON'T MODIFY ANYTHING IN THIS CELL THAT IS BELOW THIS LINE\n",
    "\"\"\"\n",
    "tests.test_get_inputs(get_inputs)"
   ]
  },
  {
   "cell_type": "markdown",
   "metadata": {},
   "source": [
    "### Build RNN Cell and Initialize\n",
    "Stack one or more [`BasicLSTMCells`](https://www.tensorflow.org/api_docs/python/tf/contrib/rnn/BasicLSTMCell) in a [`MultiRNNCell`](https://www.tensorflow.org/api_docs/python/tf/contrib/rnn/MultiRNNCell).\n",
    "- The Rnn size should be set using `rnn_size`\n",
    "- Initalize Cell State using the MultiRNNCell's [`zero_state()`](https://www.tensorflow.org/api_docs/python/tf/contrib/rnn/MultiRNNCell#zero_state) function\n",
    "    - Apply the name \"initial_state\" to the initial state using [`tf.identity()`](https://www.tensorflow.org/api_docs/python/tf/identity)\n",
    "\n",
    "Return the cell and initial state in the following tuple `(Cell, InitialState)`"
   ]
  },
  {
   "cell_type": "code",
   "execution_count": 30,
   "metadata": {},
   "outputs": [
    {
     "name": "stdout",
     "output_type": "stream",
     "text": [
      "Tests Passed\n"
     ]
    }
   ],
   "source": [
    "def get_init_cell(batch_size, rnn_size):\n",
    "    \"\"\"\n",
    "    Create an RNN Cell and initialize it.\n",
    "    :param batch_size: Size of batches\n",
    "    :param rnn_size: Size of RNNs\n",
    "    :return: Tuple (cell, initialize state)\n",
    "    \"\"\"\n",
    "    num =2\n",
    "    lstm = tf.contrib.rnn.BasicLSTMCell(rnn_size)\n",
    "    \n",
    "    drop = tf.contrib.rnn.DropoutWrapper(lstm,output_keep_prob =0.5)\n",
    "    cell = tf.contrib.rnn.MultiRNNCell([drop] * num)\n",
    "    \n",
    "    init = cell.zero_state(batch_size,tf.float32)\n",
    "    initial_state = tf.identity(init, name=\"initial_state\")\n",
    "    return (cell, initial_state)\n",
    "\n",
    "\n",
    "\"\"\"\n",
    "DON'T MODIFY ANYTHING IN THIS CELL THAT IS BELOW THIS LINE\n",
    "\"\"\"\n",
    "tests.test_get_init_cell(get_init_cell)"
   ]
  },
  {
   "cell_type": "markdown",
   "metadata": {},
   "source": [
    "### Word Embedding\n",
    "Apply embedding to `input_data` using TensorFlow.  Return the embedded sequence."
   ]
  },
  {
   "cell_type": "code",
   "execution_count": 31,
   "metadata": {},
   "outputs": [
    {
     "name": "stdout",
     "output_type": "stream",
     "text": [
      "Tests Passed\n"
     ]
    }
   ],
   "source": [
    "def get_embed(input_data, vocab_size, embed_dim):\n",
    "    \"\"\"\n",
    "    Create embedding for <input_data>.\n",
    "    :param input_data: TF placeholder for text input.\n",
    "    :param vocab_size: Number of words in vocabulary.\n",
    "    :param embed_dim: Number of embedding dimensions\n",
    "    :return: Embedded input.\n",
    "    \"\"\"\n",
    "    embedding_var = tf.Variable(tf.truncated_normal((vocab_size, embed_dim), stddev=0.01))\n",
    "    embedding_lookup = tf.nn.embedding_lookup(embedding_var,input_data)\n",
    "    return embedding_lookup\n",
    "\n",
    "\n",
    "\"\"\"\n",
    "DON'T MODIFY ANYTHING IN THIS CELL THAT IS BELOW THIS LINE\n",
    "\"\"\"\n",
    "tests.test_get_embed(get_embed)"
   ]
  },
  {
   "cell_type": "markdown",
   "metadata": {},
   "source": [
    "### Build RNN\n",
    "You created a RNN Cell in the `get_init_cell()` function.  Time to use the cell to create a RNN.\n",
    "- Build the RNN using the [`tf.nn.dynamic_rnn()`](https://www.tensorflow.org/api_docs/python/tf/nn/dynamic_rnn)\n",
    " - Apply the name \"final_state\" to the final state using [`tf.identity()`](https://www.tensorflow.org/api_docs/python/tf/identity)\n",
    "\n",
    "Return the outputs and final_state state in the following tuple `(Outputs, FinalState)` "
   ]
  },
  {
   "cell_type": "code",
   "execution_count": 32,
   "metadata": {},
   "outputs": [
    {
     "name": "stdout",
     "output_type": "stream",
     "text": [
      "Tests Passed\n"
     ]
    }
   ],
   "source": [
    "def build_rnn(cell, inputs):\n",
    "    \"\"\"\n",
    "    Create a RNN using a RNN Cell\n",
    "    :param cell: RNN Cell\n",
    "    :param inputs: Input text data\n",
    "    :return: Tuple (Outputs, Final State)\n",
    "    \"\"\"\n",
    "    \n",
    "    output, state = tf.nn.dynamic_rnn(cell,inputs,dtype=tf.float32)\n",
    "    final_state = tf.identity(state, name='final_state')\n",
    "    return (output,final_state)\n",
    "\n",
    "\n",
    "\"\"\"\n",
    "DON'T MODIFY ANYTHING IN THIS CELL THAT IS BELOW THIS LINE\n",
    "\"\"\"\n",
    "tests.test_build_rnn(build_rnn)"
   ]
  },
  {
   "cell_type": "markdown",
   "metadata": {},
   "source": [
    "### Build the Neural Network\n",
    "Apply the functions you implemented above to:\n",
    "- Apply embedding to `input_data` using your `get_embed(input_data, vocab_size, embed_dim)` function.\n",
    "- Build RNN using `cell` and your `build_rnn(cell, inputs)` function.\n",
    "- Apply a fully connected layer with a linear activation and `vocab_size` as the number of outputs.\n",
    "\n",
    "Return the logits and final state in the following tuple (Logits, FinalState) "
   ]
  },
  {
   "cell_type": "code",
   "execution_count": 33,
   "metadata": {},
   "outputs": [
    {
     "name": "stdout",
     "output_type": "stream",
     "text": [
      "Tests Passed\n"
     ]
    }
   ],
   "source": [
    "def build_nn(cell, rnn_size, input_data, vocab_size, embed_dim):\n",
    "    \"\"\"\n",
    "    Build part of the neural network\n",
    "    :param cell: RNN cell\n",
    "    :param rnn_size: Size of rnns\n",
    "    :param input_data: Input data\n",
    "    :param vocab_size: Vocabulary size\n",
    "    :param embed_dim: Number of embedding dimensions\n",
    "    :return: Tuple (Logits, FinalState)\n",
    "    \"\"\"\n",
    "    # Get Embedding \n",
    "    embeddings = get_embed(input_data, vocab_size, rnn_size)\n",
    "    \n",
    "    # Get RNN and final state \n",
    "    rnn, final_state = build_rnn(cell,embeddings)\n",
    "             \n",
    "    # Create fullyconnected layer \n",
    "    logits = tf.contrib.layers.fully_connected(rnn, \n",
    "                                              vocab_size,\n",
    "                                              weights_initializer=tf.truncated_normal_initializer(stddev=0.1),\n",
    "                                              biases_initializer=tf.zeros_initializer(), \n",
    "                                              activation_fn=None)\n",
    "    return logits, final_state\n",
    "\n",
    "\n",
    "\"\"\"\n",
    "DON'T MODIFY ANYTHING IN THIS CELL THAT IS BELOW THIS LINE\n",
    "\"\"\"\n",
    "tests.test_build_nn(build_nn)"
   ]
  },
  {
   "cell_type": "markdown",
   "metadata": {},
   "source": [
    "### Batches\n",
    "Implement `get_batches` to create batches of input and targets using `int_text`.  The batches should be a Numpy array with the shape `(number of batches, 2, batch size, sequence length)`. Each batch contains two elements:\n",
    "- The first element is a single batch of **input** with the shape `[batch size, sequence length]`\n",
    "- The second element is a single batch of **targets** with the shape `[batch size, sequence length]`\n",
    "\n",
    "If you can't fill the last batch with enough data, drop the last batch.\n",
    "\n",
    "For exmple, `get_batches([1, 2, 3, 4, 5, 6, 7, 8, 9, 10, 11, 12, 13, 14, 15, 16, 17, 18, 19, 20], 3, 2)` would return a Numpy array of the following:\n",
    "```\n",
    "[\n",
    "  # First Batch\n",
    "  [\n",
    "    # Batch of Input\n",
    "    [[ 1  2], [ 7  8], [13 14]]\n",
    "    # Batch of targets\n",
    "    [[ 2  3], [ 8  9], [14 15]]\n",
    "  ]\n",
    "\n",
    "  # Second Batch\n",
    "  [\n",
    "    # Batch of Input\n",
    "    [[ 3  4], [ 9 10], [15 16]]\n",
    "    # Batch of targets\n",
    "    [[ 4  5], [10 11], [16 17]]\n",
    "  ]\n",
    "\n",
    "  # Third Batch\n",
    "  [\n",
    "    # Batch of Input\n",
    "    [[ 5  6], [11 12], [17 18]]\n",
    "    # Batch of targets\n",
    "    [[ 6  7], [12 13], [18  1]]\n",
    "  ]\n",
    "]\n",
    "```\n",
    "\n",
    "Notice that the last target value in the last batch is the first input value of the first batch. In this case, `1`. This is a common technique used when creating sequence batches, although it is rather unintuitive."
   ]
  },
  {
   "cell_type": "code",
   "execution_count": 34,
   "metadata": {},
   "outputs": [
    {
     "name": "stdout",
     "output_type": "stream",
     "text": [
      "Tests Passed\n"
     ]
    }
   ],
   "source": [
    "def get_batches(int_text, batch_size, seq_length):\n",
    "    \"\"\"\n",
    "    Return batches of input and target\n",
    "    :param int_text: Text with the words replaced by their ids\n",
    "    :param batch_size: The size of batch\n",
    "    :param seq_length: The length of sequence\n",
    "    :return: Batches as a Numpy array\n",
    "    \"\"\"\n",
    "    \n",
    "    #Create batches \n",
    "    count = len(int_text) // (batch_size * seq_length)\n",
    "    int_text = int_text[:count * batch_size * seq_length + 1]\n",
    "    batches = np.zeros([count, 2, batch_size, seq_length])\n",
    "    val = 0\n",
    "    \n",
    "    for m in range(batch_size):\n",
    "        for n in range(count):\n",
    "            batches[n][0][m] = int_text[val:val+seq_length]\n",
    "            batches[n][1][m] = int_text[val+1:val+1+seq_length]\n",
    "            val += seq_length\n",
    "    \n",
    "    # last val should be first val\n",
    "    batches[-1][-1][-1][-1] = batches[0][0][0][0]\n",
    "    #print(batches[-1][-1][-1][-1])\n",
    "\n",
    "    return batches\n",
    "    \n",
    "    #print(get_batches([1, 2, 3, 4, 5, 6, 7, 8, 9, 10, 11, 12, 13, 14, 15, 16, 17, 18, 19, 20], 3, 2))\n",
    "\n",
    "\"\"\"\n",
    "DON'T MODIFY ANYTHING IN THIS CELL THAT IS BELOW THIS LINE\n",
    "\"\"\"\n",
    "tests.test_get_batches(get_batches)"
   ]
  },
  {
   "cell_type": "markdown",
   "metadata": {},
   "source": [
    "## Neural Network Training\n",
    "### Hyperparameters\n",
    "Tune the following parameters:\n",
    "\n",
    "- Set `num_epochs` to the number of epochs.\n",
    "- Set `batch_size` to the batch size.\n",
    "- Set `rnn_size` to the size of the RNNs.\n",
    "- Set `embed_dim` to the size of the embedding.\n",
    "- Set `seq_length` to the length of sequence.\n",
    "- Set `learning_rate` to the learning rate.\n",
    "- Set `show_every_n_batches` to the number of batches the neural network should print progress."
   ]
  },
  {
   "cell_type": "code",
   "execution_count": 35,
   "metadata": {
    "collapsed": true
   },
   "outputs": [],
   "source": [
    "# Number of Epochs\n",
    "num_epochs = 256\n",
    "# Batch Size\n",
    "batch_size = 256\n",
    "# RNN Size\n",
    "rnn_size = 512\n",
    "# Embedding Dimension Size\n",
    "embed_dim = 8\n",
    "# Sequence Length\n",
    "seq_length = 16\n",
    "# Learning Rate\n",
    "learning_rate = 0.001\n",
    "# Show stats for every n number of batches\n",
    "show_every_n_batches = 15\n",
    "\n",
    "\"\"\"\n",
    "DON'T MODIFY ANYTHING IN THIS CELL THAT IS BELOW THIS LINE\n",
    "\"\"\"\n",
    "save_dir = './save'"
   ]
  },
  {
   "cell_type": "markdown",
   "metadata": {},
   "source": [
    "### Build the Graph\n",
    "Build the graph using the neural network you implemented."
   ]
  },
  {
   "cell_type": "code",
   "execution_count": 36,
   "metadata": {},
   "outputs": [],
   "source": [
    "\"\"\"\n",
    "DON'T MODIFY ANYTHING IN THIS CELL\n",
    "\"\"\"\n",
    "from tensorflow.contrib import seq2seq\n",
    "\n",
    "train_graph = tf.Graph()\n",
    "with train_graph.as_default():\n",
    "    vocab_size = len(int_to_vocab)\n",
    "    input_text, targets, lr = get_inputs()\n",
    "    input_data_shape = tf.shape(input_text)\n",
    "    cell, initial_state = get_init_cell(input_data_shape[0], rnn_size)\n",
    "    logits, final_state = build_nn(cell, rnn_size, input_text, vocab_size, embed_dim)\n",
    "\n",
    "    # Probabilities for generating words\n",
    "    probs = tf.nn.softmax(logits, name='probs')\n",
    "\n",
    "    # Loss function\n",
    "    cost = seq2seq.sequence_loss(\n",
    "        logits,\n",
    "        targets,\n",
    "        tf.ones([input_data_shape[0], input_data_shape[1]]))\n",
    "\n",
    "    # Optimizer\n",
    "    optimizer = tf.train.AdamOptimizer(lr)\n",
    "\n",
    "    # Gradient Clipping\n",
    "    gradients = optimizer.compute_gradients(cost)\n",
    "    capped_gradients = [(tf.clip_by_value(grad, -1., 1.), var) for grad, var in gradients if grad is not None]\n",
    "    train_op = optimizer.apply_gradients(capped_gradients)"
   ]
  },
  {
   "cell_type": "markdown",
   "metadata": {},
   "source": [
    "## Train\n",
    "Train the neural network on the preprocessed data.  If you have a hard time getting a good loss, check the [forms](https://discussions.udacity.com/) to see if anyone is having the same problem."
   ]
  },
  {
   "cell_type": "code",
   "execution_count": 37,
   "metadata": {},
   "outputs": [
    {
     "name": "stdout",
     "output_type": "stream",
     "text": [
      "Epoch   0 Batch    0/16   train_loss = 8.822\n",
      "Epoch   0 Batch   15/16   train_loss = 6.941\n",
      "Epoch   1 Batch   14/16   train_loss = 6.308\n",
      "Epoch   2 Batch   13/16   train_loss = 6.111\n",
      "Epoch   3 Batch   12/16   train_loss = 6.112\n",
      "Epoch   4 Batch   11/16   train_loss = 6.030\n",
      "Epoch   5 Batch   10/16   train_loss = 6.062\n",
      "Epoch   6 Batch    9/16   train_loss = 5.926\n",
      "Epoch   7 Batch    8/16   train_loss = 5.812\n",
      "Epoch   8 Batch    7/16   train_loss = 5.682\n",
      "Epoch   9 Batch    6/16   train_loss = 5.581\n",
      "Epoch  10 Batch    5/16   train_loss = 5.495\n",
      "Epoch  11 Batch    4/16   train_loss = 5.304\n",
      "Epoch  12 Batch    3/16   train_loss = 5.149\n",
      "Epoch  13 Batch    2/16   train_loss = 5.030\n",
      "Epoch  14 Batch    1/16   train_loss = 5.046\n",
      "Epoch  15 Batch    0/16   train_loss = 4.931\n",
      "Epoch  15 Batch   15/16   train_loss = 4.881\n",
      "Epoch  16 Batch   14/16   train_loss = 4.854\n",
      "Epoch  17 Batch   13/16   train_loss = 4.757\n",
      "Epoch  18 Batch   12/16   train_loss = 4.772\n",
      "Epoch  19 Batch   11/16   train_loss = 4.694\n",
      "Epoch  20 Batch   10/16   train_loss = 4.724\n",
      "Epoch  21 Batch    9/16   train_loss = 4.622\n",
      "Epoch  22 Batch    8/16   train_loss = 4.583\n",
      "Epoch  23 Batch    7/16   train_loss = 4.523\n",
      "Epoch  24 Batch    6/16   train_loss = 4.507\n",
      "Epoch  25 Batch    5/16   train_loss = 4.521\n",
      "Epoch  26 Batch    4/16   train_loss = 4.436\n",
      "Epoch  27 Batch    3/16   train_loss = 4.387\n",
      "Epoch  28 Batch    2/16   train_loss = 4.325\n",
      "Epoch  29 Batch    1/16   train_loss = 4.311\n",
      "Epoch  30 Batch    0/16   train_loss = 4.238\n",
      "Epoch  30 Batch   15/16   train_loss = 4.252\n",
      "Epoch  31 Batch   14/16   train_loss = 4.227\n",
      "Epoch  32 Batch   13/16   train_loss = 4.134\n",
      "Epoch  33 Batch   12/16   train_loss = 4.191\n",
      "Epoch  34 Batch   11/16   train_loss = 4.095\n",
      "Epoch  35 Batch   10/16   train_loss = 4.115\n",
      "Epoch  36 Batch    9/16   train_loss = 4.006\n",
      "Epoch  37 Batch    8/16   train_loss = 3.983\n",
      "Epoch  38 Batch    7/16   train_loss = 3.976\n",
      "Epoch  39 Batch    6/16   train_loss = 3.954\n",
      "Epoch  40 Batch    5/16   train_loss = 4.002\n",
      "Epoch  41 Batch    4/16   train_loss = 3.904\n",
      "Epoch  42 Batch    3/16   train_loss = 3.844\n",
      "Epoch  43 Batch    2/16   train_loss = 3.783\n",
      "Epoch  44 Batch    1/16   train_loss = 3.797\n",
      "Epoch  45 Batch    0/16   train_loss = 3.732\n",
      "Epoch  45 Batch   15/16   train_loss = 3.737\n",
      "Epoch  46 Batch   14/16   train_loss = 3.727\n",
      "Epoch  47 Batch   13/16   train_loss = 3.598\n",
      "Epoch  48 Batch   12/16   train_loss = 3.659\n",
      "Epoch  49 Batch   11/16   train_loss = 3.636\n",
      "Epoch  50 Batch   10/16   train_loss = 3.638\n",
      "Epoch  51 Batch    9/16   train_loss = 3.620\n",
      "Epoch  52 Batch    8/16   train_loss = 3.536\n",
      "Epoch  53 Batch    7/16   train_loss = 3.513\n",
      "Epoch  54 Batch    6/16   train_loss = 3.484\n",
      "Epoch  55 Batch    5/16   train_loss = 3.470\n",
      "Epoch  56 Batch    4/16   train_loss = 3.454\n",
      "Epoch  57 Batch    3/16   train_loss = 3.377\n",
      "Epoch  58 Batch    2/16   train_loss = 3.305\n",
      "Epoch  59 Batch    1/16   train_loss = 3.328\n",
      "Epoch  60 Batch    0/16   train_loss = 3.237\n",
      "Epoch  60 Batch   15/16   train_loss = 3.246\n",
      "Epoch  61 Batch   14/16   train_loss = 3.226\n",
      "Epoch  62 Batch   13/16   train_loss = 3.117\n",
      "Epoch  63 Batch   12/16   train_loss = 3.154\n",
      "Epoch  64 Batch   11/16   train_loss = 3.127\n",
      "Epoch  65 Batch   10/16   train_loss = 3.156\n",
      "Epoch  66 Batch    9/16   train_loss = 3.123\n",
      "Epoch  67 Batch    8/16   train_loss = 3.066\n",
      "Epoch  68 Batch    7/16   train_loss = 3.044\n",
      "Epoch  69 Batch    6/16   train_loss = 3.016\n",
      "Epoch  70 Batch    5/16   train_loss = 3.031\n",
      "Epoch  71 Batch    4/16   train_loss = 2.972\n",
      "Epoch  72 Batch    3/16   train_loss = 2.963\n",
      "Epoch  73 Batch    2/16   train_loss = 2.905\n",
      "Epoch  74 Batch    1/16   train_loss = 2.913\n",
      "Epoch  75 Batch    0/16   train_loss = 2.860\n",
      "Epoch  75 Batch   15/16   train_loss = 2.829\n",
      "Epoch  76 Batch   14/16   train_loss = 2.862\n",
      "Epoch  77 Batch   13/16   train_loss = 2.742\n",
      "Epoch  78 Batch   12/16   train_loss = 2.797\n",
      "Epoch  79 Batch   11/16   train_loss = 2.836\n",
      "Epoch  80 Batch   10/16   train_loss = 2.831\n",
      "Epoch  81 Batch    9/16   train_loss = 2.850\n",
      "Epoch  82 Batch    8/16   train_loss = 2.841\n",
      "Epoch  83 Batch    7/16   train_loss = 2.770\n",
      "Epoch  84 Batch    6/16   train_loss = 2.734\n",
      "Epoch  85 Batch    5/16   train_loss = 2.706\n",
      "Epoch  86 Batch    4/16   train_loss = 2.670\n",
      "Epoch  87 Batch    3/16   train_loss = 2.637\n",
      "Epoch  88 Batch    2/16   train_loss = 2.573\n",
      "Epoch  89 Batch    1/16   train_loss = 2.562\n",
      "Epoch  90 Batch    0/16   train_loss = 2.552\n",
      "Epoch  90 Batch   15/16   train_loss = 2.527\n",
      "Epoch  91 Batch   14/16   train_loss = 2.501\n",
      "Epoch  92 Batch   13/16   train_loss = 2.430\n",
      "Epoch  93 Batch   12/16   train_loss = 2.429\n",
      "Epoch  94 Batch   11/16   train_loss = 2.448\n",
      "Epoch  95 Batch   10/16   train_loss = 2.467\n",
      "Epoch  96 Batch    9/16   train_loss = 2.445\n",
      "Epoch  97 Batch    8/16   train_loss = 2.395\n",
      "Epoch  98 Batch    7/16   train_loss = 2.366\n",
      "Epoch  99 Batch    6/16   train_loss = 2.338\n",
      "Epoch 100 Batch    5/16   train_loss = 2.338\n",
      "Epoch 101 Batch    4/16   train_loss = 2.353\n",
      "Epoch 102 Batch    3/16   train_loss = 2.279\n",
      "Epoch 103 Batch    2/16   train_loss = 2.283\n",
      "Epoch 104 Batch    1/16   train_loss = 2.223\n",
      "Epoch 105 Batch    0/16   train_loss = 2.248\n",
      "Epoch 105 Batch   15/16   train_loss = 2.188\n",
      "Epoch 106 Batch   14/16   train_loss = 2.199\n",
      "Epoch 107 Batch   13/16   train_loss = 2.137\n",
      "Epoch 108 Batch   12/16   train_loss = 2.111\n",
      "Epoch 109 Batch   11/16   train_loss = 2.146\n",
      "Epoch 110 Batch   10/16   train_loss = 2.178\n",
      "Epoch 111 Batch    9/16   train_loss = 2.174\n",
      "Epoch 112 Batch    8/16   train_loss = 2.146\n",
      "Epoch 113 Batch    7/16   train_loss = 2.097\n",
      "Epoch 114 Batch    6/16   train_loss = 2.072\n",
      "Epoch 115 Batch    5/16   train_loss = 2.102\n",
      "Epoch 116 Batch    4/16   train_loss = 2.094\n",
      "Epoch 117 Batch    3/16   train_loss = 2.038\n",
      "Epoch 118 Batch    2/16   train_loss = 2.004\n",
      "Epoch 119 Batch    1/16   train_loss = 2.008\n",
      "Epoch 120 Batch    0/16   train_loss = 1.977\n",
      "Epoch 120 Batch   15/16   train_loss = 1.963\n",
      "Epoch 121 Batch   14/16   train_loss = 1.957\n",
      "Epoch 122 Batch   13/16   train_loss = 1.875\n",
      "Epoch 123 Batch   12/16   train_loss = 1.887\n",
      "Epoch 124 Batch   11/16   train_loss = 1.921\n",
      "Epoch 125 Batch   10/16   train_loss = 1.933\n",
      "Epoch 126 Batch    9/16   train_loss = 1.902\n",
      "Epoch 127 Batch    8/16   train_loss = 1.892\n",
      "Epoch 128 Batch    7/16   train_loss = 1.851\n",
      "Epoch 129 Batch    6/16   train_loss = 1.854\n",
      "Epoch 130 Batch    5/16   train_loss = 1.858\n",
      "Epoch 131 Batch    4/16   train_loss = 1.901\n",
      "Epoch 132 Batch    3/16   train_loss = 1.858\n",
      "Epoch 133 Batch    2/16   train_loss = 1.832\n",
      "Epoch 134 Batch    1/16   train_loss = 1.824\n",
      "Epoch 135 Batch    0/16   train_loss = 1.791\n",
      "Epoch 135 Batch   15/16   train_loss = 1.783\n",
      "Epoch 136 Batch   14/16   train_loss = 1.769\n",
      "Epoch 137 Batch   13/16   train_loss = 1.715\n",
      "Epoch 138 Batch   12/16   train_loss = 1.695\n",
      "Epoch 139 Batch   11/16   train_loss = 1.730\n",
      "Epoch 140 Batch   10/16   train_loss = 1.725\n",
      "Epoch 141 Batch    9/16   train_loss = 1.742\n",
      "Epoch 142 Batch    8/16   train_loss = 1.667\n",
      "Epoch 143 Batch    7/16   train_loss = 1.701\n",
      "Epoch 144 Batch    6/16   train_loss = 1.652\n",
      "Epoch 145 Batch    5/16   train_loss = 1.655\n",
      "Epoch 146 Batch    4/16   train_loss = 1.660\n",
      "Epoch 147 Batch    3/16   train_loss = 1.661\n",
      "Epoch 148 Batch    2/16   train_loss = 1.625\n",
      "Epoch 149 Batch    1/16   train_loss = 1.621\n",
      "Epoch 150 Batch    0/16   train_loss = 1.604\n",
      "Epoch 150 Batch   15/16   train_loss = 1.588\n",
      "Epoch 151 Batch   14/16   train_loss = 1.600\n",
      "Epoch 152 Batch   13/16   train_loss = 1.524\n",
      "Epoch 153 Batch   12/16   train_loss = 1.527\n",
      "Epoch 154 Batch   11/16   train_loss = 1.626\n",
      "Epoch 155 Batch   10/16   train_loss = 1.521\n",
      "Epoch 156 Batch    9/16   train_loss = 1.555\n",
      "Epoch 157 Batch    8/16   train_loss = 1.521\n",
      "Epoch 158 Batch    7/16   train_loss = 1.467\n",
      "Epoch 159 Batch    6/16   train_loss = 1.494\n",
      "Epoch 160 Batch    5/16   train_loss = 1.499\n",
      "Epoch 161 Batch    4/16   train_loss = 1.525\n",
      "Epoch 162 Batch    3/16   train_loss = 1.487\n",
      "Epoch 163 Batch    2/16   train_loss = 1.428\n",
      "Epoch 164 Batch    1/16   train_loss = 1.421\n",
      "Epoch 165 Batch    0/16   train_loss = 1.453\n",
      "Epoch 165 Batch   15/16   train_loss = 1.437\n",
      "Epoch 166 Batch   14/16   train_loss = 1.401\n",
      "Epoch 167 Batch   13/16   train_loss = 1.369\n",
      "Epoch 168 Batch   12/16   train_loss = 1.374\n",
      "Epoch 169 Batch   11/16   train_loss = 1.430\n",
      "Epoch 170 Batch   10/16   train_loss = 1.387\n"
     ]
    },
    {
     "name": "stdout",
     "output_type": "stream",
     "text": [
      "Epoch 171 Batch    9/16   train_loss = 1.378\n",
      "Epoch 172 Batch    8/16   train_loss = 1.388\n",
      "Epoch 173 Batch    7/16   train_loss = 1.369\n",
      "Epoch 174 Batch    6/16   train_loss = 1.370\n",
      "Epoch 175 Batch    5/16   train_loss = 1.360\n",
      "Epoch 176 Batch    4/16   train_loss = 1.367\n",
      "Epoch 177 Batch    3/16   train_loss = 1.379\n",
      "Epoch 178 Batch    2/16   train_loss = 1.314\n",
      "Epoch 179 Batch    1/16   train_loss = 1.294\n",
      "Epoch 180 Batch    0/16   train_loss = 1.277\n",
      "Epoch 180 Batch   15/16   train_loss = 1.275\n",
      "Epoch 181 Batch   14/16   train_loss = 1.266\n",
      "Epoch 182 Batch   13/16   train_loss = 1.188\n",
      "Epoch 183 Batch   12/16   train_loss = 1.238\n",
      "Epoch 184 Batch   11/16   train_loss = 1.241\n",
      "Epoch 185 Batch   10/16   train_loss = 1.215\n",
      "Epoch 186 Batch    9/16   train_loss = 1.233\n",
      "Epoch 187 Batch    8/16   train_loss = 1.228\n",
      "Epoch 188 Batch    7/16   train_loss = 1.227\n",
      "Epoch 189 Batch    6/16   train_loss = 1.222\n",
      "Epoch 190 Batch    5/16   train_loss = 1.209\n",
      "Epoch 191 Batch    4/16   train_loss = 1.231\n",
      "Epoch 192 Batch    3/16   train_loss = 1.185\n",
      "Epoch 193 Batch    2/16   train_loss = 1.142\n",
      "Epoch 194 Batch    1/16   train_loss = 1.135\n",
      "Epoch 195 Batch    0/16   train_loss = 1.142\n",
      "Epoch 195 Batch   15/16   train_loss = 1.110\n",
      "Epoch 196 Batch   14/16   train_loss = 1.112\n",
      "Epoch 197 Batch   13/16   train_loss = 1.049\n",
      "Epoch 198 Batch   12/16   train_loss = 1.093\n",
      "Epoch 199 Batch   11/16   train_loss = 1.128\n",
      "Epoch 200 Batch   10/16   train_loss = 1.091\n",
      "Epoch 201 Batch    9/16   train_loss = 1.087\n",
      "Epoch 202 Batch    8/16   train_loss = 1.095\n",
      "Epoch 203 Batch    7/16   train_loss = 1.096\n",
      "Epoch 204 Batch    6/16   train_loss = 1.089\n",
      "Epoch 205 Batch    5/16   train_loss = 1.113\n",
      "Epoch 206 Batch    4/16   train_loss = 1.094\n",
      "Epoch 207 Batch    3/16   train_loss = 1.070\n",
      "Epoch 208 Batch    2/16   train_loss = 1.056\n",
      "Epoch 209 Batch    1/16   train_loss = 1.060\n",
      "Epoch 210 Batch    0/16   train_loss = 1.030\n",
      "Epoch 210 Batch   15/16   train_loss = 1.035\n",
      "Epoch 211 Batch   14/16   train_loss = 1.052\n",
      "Epoch 212 Batch   13/16   train_loss = 0.966\n",
      "Epoch 213 Batch   12/16   train_loss = 0.970\n",
      "Epoch 214 Batch   11/16   train_loss = 1.013\n",
      "Epoch 215 Batch   10/16   train_loss = 1.023\n",
      "Epoch 216 Batch    9/16   train_loss = 1.004\n",
      "Epoch 217 Batch    8/16   train_loss = 0.996\n",
      "Epoch 218 Batch    7/16   train_loss = 0.979\n",
      "Epoch 219 Batch    6/16   train_loss = 1.002\n",
      "Epoch 220 Batch    5/16   train_loss = 0.988\n",
      "Epoch 221 Batch    4/16   train_loss = 0.967\n",
      "Epoch 222 Batch    3/16   train_loss = 0.969\n",
      "Epoch 223 Batch    2/16   train_loss = 0.947\n",
      "Epoch 224 Batch    1/16   train_loss = 0.962\n",
      "Epoch 225 Batch    0/16   train_loss = 0.922\n",
      "Epoch 225 Batch   15/16   train_loss = 0.946\n",
      "Epoch 226 Batch   14/16   train_loss = 0.933\n",
      "Epoch 227 Batch   13/16   train_loss = 0.910\n",
      "Epoch 228 Batch   12/16   train_loss = 0.885\n",
      "Epoch 229 Batch   11/16   train_loss = 0.924\n",
      "Epoch 230 Batch   10/16   train_loss = 0.942\n",
      "Epoch 231 Batch    9/16   train_loss = 0.881\n",
      "Epoch 232 Batch    8/16   train_loss = 0.921\n",
      "Epoch 233 Batch    7/16   train_loss = 0.918\n",
      "Epoch 234 Batch    6/16   train_loss = 0.889\n",
      "Epoch 235 Batch    5/16   train_loss = 0.926\n",
      "Epoch 236 Batch    4/16   train_loss = 0.941\n",
      "Epoch 237 Batch    3/16   train_loss = 0.943\n",
      "Epoch 238 Batch    2/16   train_loss = 0.860\n",
      "Epoch 239 Batch    1/16   train_loss = 0.884\n",
      "Epoch 240 Batch    0/16   train_loss = 0.876\n",
      "Epoch 240 Batch   15/16   train_loss = 0.875\n",
      "Epoch 241 Batch   14/16   train_loss = 0.861\n",
      "Epoch 242 Batch   13/16   train_loss = 0.867\n",
      "Epoch 243 Batch   12/16   train_loss = 0.853\n",
      "Epoch 244 Batch   11/16   train_loss = 0.874\n",
      "Epoch 245 Batch   10/16   train_loss = 0.871\n",
      "Epoch 246 Batch    9/16   train_loss = 0.871\n",
      "Epoch 247 Batch    8/16   train_loss = 0.865\n",
      "Epoch 248 Batch    7/16   train_loss = 0.820\n",
      "Epoch 249 Batch    6/16   train_loss = 0.845\n",
      "Epoch 250 Batch    5/16   train_loss = 0.840\n",
      "Epoch 251 Batch    4/16   train_loss = 0.854\n",
      "Epoch 252 Batch    3/16   train_loss = 0.841\n",
      "Epoch 253 Batch    2/16   train_loss = 0.833\n",
      "Epoch 254 Batch    1/16   train_loss = 0.811\n",
      "Epoch 255 Batch    0/16   train_loss = 0.803\n",
      "Epoch 255 Batch   15/16   train_loss = 0.834\n",
      "Model Trained and Saved\n"
     ]
    }
   ],
   "source": [
    "\"\"\"\n",
    "DON'T MODIFY ANYTHING IN THIS CELL\n",
    "\"\"\"\n",
    "batches = get_batches(int_text, batch_size, seq_length)\n",
    "\n",
    "with tf.Session(graph=train_graph) as sess:\n",
    "    sess.run(tf.global_variables_initializer())\n",
    "\n",
    "    for epoch_i in range(num_epochs):\n",
    "        state = sess.run(initial_state, {input_text: batches[0][0]})\n",
    "\n",
    "        for batch_i, (x, y) in enumerate(batches):\n",
    "            feed = {\n",
    "                input_text: x,\n",
    "                targets: y,\n",
    "                initial_state: state,\n",
    "                lr: learning_rate}\n",
    "            train_loss, state, _ = sess.run([cost, final_state, train_op], feed)\n",
    "\n",
    "            # Show every <show_every_n_batches> batches\n",
    "            if (epoch_i * len(batches) + batch_i) % show_every_n_batches == 0:\n",
    "                print('Epoch {:>3} Batch {:>4}/{}   train_loss = {:.3f}'.format(\n",
    "                    epoch_i,\n",
    "                    batch_i,\n",
    "                    len(batches),\n",
    "                    train_loss))\n",
    "\n",
    "    # Save Model\n",
    "    saver = tf.train.Saver()\n",
    "    saver.save(sess, save_dir)\n",
    "    print('Model Trained and Saved')"
   ]
  },
  {
   "cell_type": "markdown",
   "metadata": {},
   "source": [
    "## Save Parameters\n",
    "Save `seq_length` and `save_dir` for generating a new TV script."
   ]
  },
  {
   "cell_type": "code",
   "execution_count": 38,
   "metadata": {
    "collapsed": true
   },
   "outputs": [],
   "source": [
    "\"\"\"\n",
    "DON'T MODIFY ANYTHING IN THIS CELL\n",
    "\"\"\"\n",
    "# Save parameters for checkpoint\n",
    "helper.save_params((seq_length, save_dir))"
   ]
  },
  {
   "cell_type": "markdown",
   "metadata": {},
   "source": [
    "# Checkpoint"
   ]
  },
  {
   "cell_type": "code",
   "execution_count": 39,
   "metadata": {
    "collapsed": true
   },
   "outputs": [],
   "source": [
    "\"\"\"\n",
    "DON'T MODIFY ANYTHING IN THIS CELL\n",
    "\"\"\"\n",
    "import tensorflow as tf\n",
    "import numpy as np\n",
    "import helper\n",
    "import problem_unittests as tests\n",
    "\n",
    "_, vocab_to_int, int_to_vocab, token_dict = helper.load_preprocess()\n",
    "seq_length, load_dir = helper.load_params()"
   ]
  },
  {
   "cell_type": "markdown",
   "metadata": {},
   "source": [
    "## Implement Generate Functions\n",
    "### Get Tensors\n",
    "Get tensors from `loaded_graph` using the function [`get_tensor_by_name()`](https://www.tensorflow.org/api_docs/python/tf/Graph#get_tensor_by_name).  Get the tensors using the following names:\n",
    "- \"input:0\"\n",
    "- \"initial_state:0\"\n",
    "- \"final_state:0\"\n",
    "- \"probs:0\"\n",
    "\n",
    "Return the tensors in the following tuple `(InputTensor, InitialStateTensor, FinalStateTensor, ProbsTensor)` "
   ]
  },
  {
   "cell_type": "code",
   "execution_count": 40,
   "metadata": {},
   "outputs": [
    {
     "name": "stdout",
     "output_type": "stream",
     "text": [
      "Tests Passed\n"
     ]
    }
   ],
   "source": [
    "def get_tensors(loaded_graph):\n",
    "    \"\"\"\n",
    "    Get input, initial state, final state, and probabilities tensor from <loaded_graph>\n",
    "    :param loaded_graph: TensorFlow graph loaded from file\n",
    "    :return: Tuple (InputTensor, InitialStateTensor, FinalStateTensor, ProbsTensor)\n",
    "    \"\"\"\n",
    "    # Get Tensor \n",
    "    InputTensor = loaded_graph.get_tensor_by_name('input:0')\n",
    "    InitialStateTensor = loaded_graph.get_tensor_by_name('initial_state:0')\n",
    "    FinalStateTensor = loaded_graph.get_tensor_by_name('final_state:0')\n",
    "    ProbsTensor = loaded_graph.get_tensor_by_name('probs:0')\n",
    "    return (InputTensor,InitialStateTensor,FinalStateTensor,ProbsTensor)\n",
    "\n",
    "\n",
    "\"\"\"\n",
    "DON'T MODIFY ANYTHING IN THIS CELL THAT IS BELOW THIS LINE\n",
    "\"\"\"\n",
    "tests.test_get_tensors(get_tensors)"
   ]
  },
  {
   "cell_type": "markdown",
   "metadata": {},
   "source": [
    "### Choose Word\n",
    "Implement the `pick_word()` function to select the next word using `probabilities`."
   ]
  },
  {
   "cell_type": "code",
   "execution_count": 41,
   "metadata": {},
   "outputs": [
    {
     "name": "stdout",
     "output_type": "stream",
     "text": [
      "Tests Passed\n"
     ]
    }
   ],
   "source": [
    "def pick_word(probabilities, int_to_vocab):\n",
    "    \"\"\"\n",
    "    Pick the next word in the generated text\n",
    "    :param probabilities: Probabilites of the next word\n",
    "    :param int_to_vocab: Dictionary of word ids as the keys and words as the values\n",
    "    :return: String of the predicted word\n",
    "    \"\"\"\n",
    "    # A random word \n",
    "    word_id = np.random.choice(len(probabilities), p=probabilities)\n",
    "    return int_to_vocab[word_id]\n",
    "\n",
    "\n",
    "\"\"\"\n",
    "DON'T MODIFY ANYTHING IN THIS CELL THAT IS BELOW THIS LINE\n",
    "\"\"\"\n",
    "tests.test_pick_word(pick_word)"
   ]
  },
  {
   "cell_type": "markdown",
   "metadata": {},
   "source": [
    "## Generate TV Script\n",
    "This will generate the TV script for you.  Set `gen_length` to the length of TV script you want to generate."
   ]
  },
  {
   "cell_type": "code",
   "execution_count": 42,
   "metadata": {},
   "outputs": [
    {
     "name": "stdout",
     "output_type": "stream",
     "text": [
      "INFO:tensorflow:Restoring parameters from ./save\n"
     ]
    },
    {
     "ename": "ValueError",
     "evalue": "object too deep for desired array",
     "output_type": "error",
     "traceback": [
      "\u001b[0;31m---------------------------------------------------------------------------\u001b[0m",
      "\u001b[0;31mValueError\u001b[0m                                Traceback (most recent call last)",
      "\u001b[0;32m<ipython-input-42-6344c69e5ce2>\u001b[0m in \u001b[0;36m<module>\u001b[0;34m()\u001b[0m\n\u001b[1;32m     30\u001b[0m             {input_text: dyn_input, initial_state: prev_state})\n\u001b[1;32m     31\u001b[0m \u001b[0;34m\u001b[0m\u001b[0m\n\u001b[0;32m---> 32\u001b[0;31m         \u001b[0mpred_word\u001b[0m \u001b[0;34m=\u001b[0m \u001b[0mpick_word\u001b[0m\u001b[0;34m(\u001b[0m\u001b[0mprobabilities\u001b[0m\u001b[0;34m[\u001b[0m\u001b[0mdyn_seq_length\u001b[0m\u001b[0;34m-\u001b[0m\u001b[0;36m1\u001b[0m\u001b[0;34m]\u001b[0m\u001b[0;34m,\u001b[0m \u001b[0mint_to_vocab\u001b[0m\u001b[0;34m)\u001b[0m\u001b[0;34m\u001b[0m\u001b[0m\n\u001b[0m\u001b[1;32m     33\u001b[0m \u001b[0;34m\u001b[0m\u001b[0m\n\u001b[1;32m     34\u001b[0m         \u001b[0mgen_sentences\u001b[0m\u001b[0;34m.\u001b[0m\u001b[0mappend\u001b[0m\u001b[0;34m(\u001b[0m\u001b[0mpred_word\u001b[0m\u001b[0;34m)\u001b[0m\u001b[0;34m\u001b[0m\u001b[0m\n",
      "\u001b[0;32m<ipython-input-41-85e66b89d4f3>\u001b[0m in \u001b[0;36mpick_word\u001b[0;34m(probabilities, int_to_vocab)\u001b[0m\n\u001b[1;32m      7\u001b[0m     \"\"\"\n\u001b[1;32m      8\u001b[0m     \u001b[0;31m# A random word\u001b[0m\u001b[0;34m\u001b[0m\u001b[0;34m\u001b[0m\u001b[0m\n\u001b[0;32m----> 9\u001b[0;31m     \u001b[0mword_id\u001b[0m \u001b[0;34m=\u001b[0m \u001b[0mnp\u001b[0m\u001b[0;34m.\u001b[0m\u001b[0mrandom\u001b[0m\u001b[0;34m.\u001b[0m\u001b[0mchoice\u001b[0m\u001b[0;34m(\u001b[0m\u001b[0mlen\u001b[0m\u001b[0;34m(\u001b[0m\u001b[0mprobabilities\u001b[0m\u001b[0;34m)\u001b[0m\u001b[0;34m,\u001b[0m \u001b[0mp\u001b[0m\u001b[0;34m=\u001b[0m\u001b[0mprobabilities\u001b[0m\u001b[0;34m)\u001b[0m\u001b[0;34m\u001b[0m\u001b[0m\n\u001b[0m\u001b[1;32m     10\u001b[0m     \u001b[0;32mreturn\u001b[0m \u001b[0mint_to_vocab\u001b[0m\u001b[0;34m[\u001b[0m\u001b[0mword_id\u001b[0m\u001b[0;34m]\u001b[0m\u001b[0;34m\u001b[0m\u001b[0m\n\u001b[1;32m     11\u001b[0m \u001b[0;34m\u001b[0m\u001b[0m\n",
      "\u001b[0;32mmtrand.pyx\u001b[0m in \u001b[0;36mmtrand.RandomState.choice (numpy/random/mtrand/mtrand.c:17602)\u001b[0;34m()\u001b[0m\n",
      "\u001b[0;31mValueError\u001b[0m: object too deep for desired array"
     ]
    }
   ],
   "source": [
    "gen_length = 200\n",
    "# homer_simpson, moe_szyslak, or Barney_Gumble\n",
    "prime_word = 'homer_simpson'\n",
    "\n",
    "\"\"\"\n",
    "DON'T MODIFY ANYTHING IN THIS CELL THAT IS BELOW THIS LINE\n",
    "\"\"\"\n",
    "loaded_graph = tf.Graph()\n",
    "with tf.Session(graph=loaded_graph) as sess:\n",
    "    # Load saved model\n",
    "    loader = tf.train.import_meta_graph(load_dir + '.meta')\n",
    "    loader.restore(sess, load_dir)\n",
    "\n",
    "    # Get Tensors from loaded model\n",
    "    input_text, initial_state, final_state, probs = get_tensors(loaded_graph)\n",
    "\n",
    "    # Sentences generation setup\n",
    "    gen_sentences = [prime_word + ':']\n",
    "    prev_state = sess.run(initial_state, {input_text: np.array([[1]])})\n",
    "\n",
    "    # Generate sentences\n",
    "    for n in range(gen_length):\n",
    "        # Dynamic Input\n",
    "        dyn_input = [[vocab_to_int[word] for word in gen_sentences[-seq_length:]]]\n",
    "        dyn_seq_length = len(dyn_input[0])\n",
    "\n",
    "        # Get Prediction\n",
    "        probabilities, prev_state = sess.run(\n",
    "            [probs, final_state],\n",
    "            {input_text: dyn_input, initial_state: prev_state})\n",
    "        \n",
    "        pred_word = pick_word(probabilities[dyn_seq_length-1], int_to_vocab)\n",
    "\n",
    "        gen_sentences.append(pred_word)\n",
    "    \n",
    "    # Remove tokens\n",
    "    tv_script = ' '.join(gen_sentences)\n",
    "    for key, token in token_dict.items():\n",
    "        ending = ' ' if key in ['\\n', '(', '\"'] else ''\n",
    "        tv_script = tv_script.replace(' ' + token.lower(), key)\n",
    "    tv_script = tv_script.replace('\\n ', '\\n')\n",
    "    tv_script = tv_script.replace('( ', '(')\n",
    "        \n",
    "    print(tv_script)"
   ]
  },
  {
   "cell_type": "markdown",
   "metadata": {},
   "source": [
    "# The TV Script is Nonsensical\n",
    "It's ok if the TV script doesn't make any sense.  We trained on less than a megabyte of text.  In order to get good results, you'll have to use a smaller vocabulary or get more data.  Luckly there's more data!  As we mentioned in the begging of this project, this is a subset of [another dataset](https://www.kaggle.com/wcukierski/the-simpsons-by-the-data).  We didn't have you train on all the data, because that would take too long.  However, you are free to train your neural network on all the data.  After you complete the project, of course.\n",
    "# Submitting This Project\n",
    "When submitting this project, make sure to run all the cells before saving the notebook. Save the notebook file as \"dlnd_tv_script_generation.ipynb\" and save it as a HTML file under \"File\" -> \"Download as\". Include the \"helper.py\" and \"problem_unittests.py\" files in your submission."
   ]
  }
 ],
 "metadata": {
  "kernelspec": {
   "display_name": "Python 3",
   "language": "python",
   "name": "python3"
  },
  "language_info": {
   "codemirror_mode": {
    "name": "ipython",
    "version": 3
   },
   "file_extension": ".py",
   "mimetype": "text/x-python",
   "name": "python",
   "nbconvert_exporter": "python",
   "pygments_lexer": "ipython3",
   "version": "3.5.3"
  }
 },
 "nbformat": 4,
 "nbformat_minor": 1
}
