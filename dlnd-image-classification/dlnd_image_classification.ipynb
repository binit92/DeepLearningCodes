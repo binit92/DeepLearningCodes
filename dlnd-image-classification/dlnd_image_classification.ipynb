{
 "cells": [
  {
   "cell_type": "markdown",
   "metadata": {
    "collapsed": true
   },
   "source": [
    "# Image Classification\n",
    "In this project, you'll classify images from the [CIFAR-10 dataset](https://www.cs.toronto.edu/~kriz/cifar.html).  The dataset consists of airplanes, dogs, cats, and other objects. You'll preprocess the images, then train a convolutional neural network on all the samples. The images need to be normalized and the labels need to be one-hot encoded.  You'll get to apply what you learned and build a convolutional, max pooling, dropout, and fully connected layers.  At the end, you'll get to see your neural network's predictions on the sample images.\n",
    "## Get the Data\n",
    "Run the following cell to download the [CIFAR-10 dataset for python](https://www.cs.toronto.edu/~kriz/cifar-10-python.tar.gz)."
   ]
  },
  {
   "cell_type": "code",
   "execution_count": 1,
   "metadata": {
    "collapsed": false
   },
   "outputs": [
    {
     "name": "stdout",
     "output_type": "stream",
     "text": [
      "All files found!\n"
     ]
    }
   ],
   "source": [
    "\"\"\"\n",
    "DON'T MODIFY ANYTHING IN THIS CELL THAT IS BELOW THIS LINE\n",
    "\"\"\"\n",
    "from urllib.request import urlretrieve\n",
    "from os.path import isfile, isdir\n",
    "from tqdm import tqdm\n",
    "import problem_unittests as tests\n",
    "import tarfile\n",
    "\n",
    "cifar10_dataset_folder_path = 'cifar-10-batches-py'\n",
    "\n",
    "# Use Floyd's cifar-10 dataset if present\n",
    "floyd_cifar10_location = '/input/cifar-10/python.tar.gz'\n",
    "if isfile(floyd_cifar10_location):\n",
    "    tar_gz_path = floyd_cifar10_location\n",
    "else:\n",
    "    tar_gz_path = 'cifar-10-python.tar.gz'\n",
    "\n",
    "class DLProgress(tqdm):\n",
    "    last_block = 0\n",
    "\n",
    "    def hook(self, block_num=1, block_size=1, total_size=None):\n",
    "        self.total = total_size\n",
    "        self.update((block_num - self.last_block) * block_size)\n",
    "        self.last_block = block_num\n",
    "\n",
    "if not isfile(tar_gz_path):\n",
    "    with DLProgress(unit='B', unit_scale=True, miniters=1, desc='CIFAR-10 Dataset') as pbar:\n",
    "        urlretrieve(\n",
    "            'https://www.cs.toronto.edu/~kriz/cifar-10-python.tar.gz',\n",
    "            tar_gz_path,\n",
    "            pbar.hook)\n",
    "\n",
    "if not isdir(cifar10_dataset_folder_path):\n",
    "    with tarfile.open(tar_gz_path) as tar:\n",
    "        tar.extractall()\n",
    "        tar.close()\n",
    "\n",
    "\n",
    "tests.test_folder_path(cifar10_dataset_folder_path)"
   ]
  },
  {
   "cell_type": "markdown",
   "metadata": {},
   "source": [
    "## Explore the Data\n",
    "The dataset is broken into batches to prevent your machine from running out of memory.  The CIFAR-10 dataset consists of 5 batches, named `data_batch_1`, `data_batch_2`, etc.. Each batch contains the labels and images that are one of the following:\n",
    "* airplane\n",
    "* automobile\n",
    "* bird\n",
    "* cat\n",
    "* deer\n",
    "* dog\n",
    "* frog\n",
    "* horse\n",
    "* ship\n",
    "* truck\n",
    "\n",
    "Understanding a dataset is part of making predictions on the data.  Play around with the code cell below by changing the `batch_id` and `sample_id`. The `batch_id` is the id for a batch (1-5). The `sample_id` is the id for a image and label pair in the batch.\n",
    "\n",
    "Ask yourself \"What are all possible labels?\", \"What is the range of values for the image data?\", \"Are the labels in order or random?\".  Answers to questions like these will help you preprocess the data and end up with better predictions."
   ]
  },
  {
   "cell_type": "code",
   "execution_count": 4,
   "metadata": {
    "collapsed": false
   },
   "outputs": [
    {
     "name": "stdout",
     "output_type": "stream",
     "text": [
      "\n",
      "Stats of batch 2:\n",
      "Samples: 10000\n",
      "Label Counts: {0: 984, 1: 1007, 2: 1010, 3: 995, 4: 1010, 5: 988, 6: 1008, 7: 1026, 8: 987, 9: 985}\n",
      "First 20 Labels: [1, 6, 6, 8, 8, 3, 4, 6, 0, 6, 0, 3, 6, 6, 5, 4, 8, 3, 2, 6]\n",
      "\n",
      "Example of Image 4:\n",
      "Image - Min Value: 0 Max Value: 255\n",
      "Image - Shape: (32, 32, 3)\n",
      "Label - Label Id: 8 Name: ship\n"
     ]
    },
    {
     "data": {
      "image/png": "[encoded data removed]",
      "text/plain": [
       "<matplotlib.figure.Figure at 0xc4a4438>"
      ]
     },
     "metadata": {
      "image/png": {
       "height": 250,
       "width": 253
      }
     },
     "output_type": "display_data"
    }
   ],
   "source": [
    "%matplotlib inline\n",
    "%config InlineBackend.figure_format = 'retina'\n",
    "\n",
    "import helper\n",
    "import numpy as np\n",
    "\n",
    "# Explore the dataset\n",
    "batch_id = 2\n",
    "sample_id = 4\n",
    "helper.display_stats(cifar10_dataset_folder_path, batch_id, sample_id)"
   ]
  },
  {
   "cell_type": "markdown",
   "metadata": {},
   "source": [
    "## Implement Preprocess Functions\n",
    "### Normalize\n",
    "In the cell below, implement the `normalize` function to take in image data, `x`, and return it as a normalized Numpy array. The values should be in the range of 0 to 1, inclusive.  The return object should be the same shape as `x`."
   ]
  },
  {
   "cell_type": "code",
   "execution_count": 5,
   "metadata": {
    "collapsed": false
   },
   "outputs": [
    {
     "name": "stdout",
     "output_type": "stream",
     "text": [
      "Tests Passed\n"
     ]
    }
   ],
   "source": [
    "def normalize(x):\n",
    "    \"\"\"\n",
    "    Normalize a list of sample image data in the range of 0 to 1\n",
    "    : x: List of image data.  The image shape is (32, 32, 3)\n",
    "    : return: Numpy array of normalize data\n",
    "    \"\"\"\n",
    "    # TODO: Implement Function\n",
    "    return x/x.max(axis=0)\n",
    "    \n",
    "\"\"\"\n",
    "DON'T MODIFY ANYTHING IN THIS CELL THAT IS BELOW THIS LINE\n",
    "\"\"\"\n",
    "tests.test_normalize(normalize)"
   ]
  },
  {
   "cell_type": "markdown",
   "metadata": {},
   "source": [
    "### One-hot encode\n",
    "Just like the previous code cell, you'll be implementing a function for preprocessing.  This time, you'll implement the `one_hot_encode` function. The input, `x`, are a list of labels.  Implement the function to return the list of labels as One-Hot encoded Numpy array.  The possible values for labels are 0 to 9. The one-hot encoding function should return the same encoding for each value between each call to `one_hot_encode`.  Make sure to save the map of encodings outside the function.\n",
    "\n",
    "Hint: Don't reinvent the wheel."
   ]
  },
  {
   "cell_type": "code",
   "execution_count": 6,
   "metadata": {
    "collapsed": false
   },
   "outputs": [
    {
     "name": "stdout",
     "output_type": "stream",
     "text": [
      "Tests Passed\n"
     ]
    }
   ],
   "source": [
    "import tensorflow as tf\n",
    "def one_hot_encode(x):\n",
    "    \"\"\"\n",
    "    One hot encode a list of sample labels. Return a one-hot encoded vector for each label.\n",
    "    : x: List of sample Labels\n",
    "    : return: Numpy array of one-hot encoded labels    \n",
    "    \n",
    "    \"\"\"\n",
    "    #print(len(x))\n",
    "    res = np.zeros((len(x), 10))\n",
    "    for val in range(len(x)):\n",
    "        res[val,x[val]] = 1   \n",
    "        \n",
    "    #print(res)    \n",
    "    return res\n",
    "\n",
    "\"\"\"\n",
    "DON'T MODIFY ANYTHING IN THIS CELL THAT IS BELOW THIS LINE\n",
    "\"\"\"\n",
    "tests.test_one_hot_encode(one_hot_encode)"
   ]
  },
  {
   "cell_type": "markdown",
   "metadata": {},
   "source": [
    "### Randomize Data\n",
    "As you saw from exploring the data above, the order of the samples are randomized.  It doesn't hurt to randomize it again, but you don't need to for this dataset."
   ]
  },
  {
   "cell_type": "markdown",
   "metadata": {},
   "source": [
    "## Preprocess all the data and save it\n",
    "Running the code cell below will preprocess all the CIFAR-10 data and save it to file. The code below also uses 10% of the training data for validation."
   ]
  },
  {
   "cell_type": "code",
   "execution_count": 7,
   "metadata": {
    "collapsed": false
   },
   "outputs": [],
   "source": [
    "\"\"\"\n",
    "DON'T MODIFY ANYTHING IN THIS CELL\n",
    "\"\"\"\n",
    "# Preprocess Training, Validation, and Testing Data\n",
    "helper.preprocess_and_save_data(cifar10_dataset_folder_path, normalize, one_hot_encode)"
   ]
  },
  {
   "cell_type": "markdown",
   "metadata": {},
   "source": [
    "# Check Point\n",
    "This is your first checkpoint.  If you ever decide to come back to this notebook or have to restart the notebook, you can start from here.  The preprocessed data has been saved to disk."
   ]
  },
  {
   "cell_type": "code",
   "execution_count": 2,
   "metadata": {
    "collapsed": true
   },
   "outputs": [],
   "source": [
    "\"\"\"\n",
    "DON'T MODIFY ANYTHING IN THIS CELL\n",
    "\"\"\"\n",
    "import pickle\n",
    "import problem_unittests as tests\n",
    "import helper\n",
    "\n",
    "# Load the Preprocessed Validation data\n",
    "valid_features, valid_labels = pickle.load(open('preprocess_validation.p', mode='rb'))"
   ]
  },
  {
   "cell_type": "markdown",
   "metadata": {},
   "source": [
    "## Build the network\n",
    "For the neural network, you'll build each layer into a function.  Most of the code you've seen has been outside of functions. To test your code more thoroughly, we require that you put each layer in a function.  This allows us to give you better feedback and test for simple mistakes using our unittests before you submit your project.\n",
    "\n",
    ">**Note:** If you're finding it hard to dedicate enough time for this course each week, we've provided a small shortcut to this part of the project. In the next couple of problems, you'll have the option to use classes from the [TensorFlow Layers](https://www.tensorflow.org/api_docs/python/tf/layers) or [TensorFlow Layers (contrib)](https://www.tensorflow.org/api_guides/python/contrib.layers) packages to build each layer, except the layers you build in the \"Convolutional and Max Pooling Layer\" section.  TF Layers is similar to Keras's and TFLearn's abstraction to layers, so it's easy to pickup.\n",
    "\n",
    ">However, if you would like to get the most out of this course, try to solve all the problems _without_ using anything from the TF Layers packages. You **can** still use classes from other packages that happen to have the same name as ones you find in TF Layers! For example, instead of using the TF Layers version of the `conv2d` class, [tf.layers.conv2d](https://www.tensorflow.org/api_docs/python/tf/layers/conv2d), you would want to use the TF Neural Network version of `conv2d`, [tf.nn.conv2d](https://www.tensorflow.org/api_docs/python/tf/nn/conv2d). \n",
    "\n",
    "Let's begin!\n",
    "\n",
    "### Input\n",
    "The neural network needs to read the image data, one-hot encoded labels, and dropout keep probability. Implement the following functions\n",
    "* Implement `neural_net_image_input`\n",
    " * Return a [TF Placeholder](https://www.tensorflow.org/api_docs/python/tf/placeholder)\n",
    " * Set the shape using `image_shape` with batch size set to `None`.\n",
    " * Name the TensorFlow placeholder \"x\" using the TensorFlow `name` parameter in the [TF Placeholder](https://www.tensorflow.org/api_docs/python/tf/placeholder).\n",
    "* Implement `neural_net_label_input`\n",
    " * Return a [TF Placeholder](https://www.tensorflow.org/api_docs/python/tf/placeholder)\n",
    " * Set the shape using `n_classes` with batch size set to `None`.\n",
    " * Name the TensorFlow placeholder \"y\" using the TensorFlow `name` parameter in the [TF Placeholder](https://www.tensorflow.org/api_docs/python/tf/placeholder).\n",
    "* Implement `neural_net_keep_prob_input`\n",
    " * Return a [TF Placeholder](https://www.tensorflow.org/api_docs/python/tf/placeholder) for dropout keep probability.\n",
    " * Name the TensorFlow placeholder \"keep_prob\" using the TensorFlow `name` parameter in the [TF Placeholder](https://www.tensorflow.org/api_docs/python/tf/placeholder).\n",
    "\n",
    "These names will be used at the end of the project to load your saved model.\n",
    "\n",
    "Note: `None` for shapes in TensorFlow allow for a dynamic size."
   ]
  },
  {
   "cell_type": "code",
   "execution_count": 3,
   "metadata": {
    "collapsed": false
   },
   "outputs": [
    {
     "name": "stdout",
     "output_type": "stream",
     "text": [
      "Image Input Tests Passed.\n",
      "Label Input Tests Passed.\n",
      "Keep Prob Tests Passed.\n"
     ]
    }
   ],
   "source": [
    "import tensorflow as tf\n",
    "\n",
    "def neural_net_image_input(image_shape):\n",
    "    \"\"\"\n",
    "    Return a Tensor for a batch of image input\n",
    "    : image_shape: Shape of the images\n",
    "    : return: Tensor for image input.\n",
    "    \"\"\"\n",
    "    # TODO: Implement Function\n",
    "    return tf.placeholder(tf.float32,[None,image_shape[0],image_shape[1],image_shape[2]],name='x')\n",
    "\n",
    "\n",
    "def neural_net_label_input(n_classes):\n",
    "    \"\"\"\n",
    "    Return a Tensor for a batch of label input\n",
    "    : n_classes: Number of classes\n",
    "    : return: Tensor for label input.\n",
    "    \"\"\"\n",
    "    # TODO: Implement Function\n",
    "    return tf.placeholder(tf.float32,[None,n_classes],name='y')\n",
    "\n",
    "\n",
    "def neural_net_keep_prob_input():\n",
    "    \"\"\"\n",
    "    Return a Tensor for keep probability\n",
    "    : return: Tensor for keep probability.\n",
    "    \"\"\"\n",
    "    # TODO: Implement Function\n",
    "    return tf.placeholder(tf.float32,name='keep_prob')\n",
    "\n",
    "\n",
    "\"\"\"\n",
    "DON'T MODIFY ANYTHING IN THIS CELL THAT IS BELOW THIS LINE\n",
    "\"\"\"\n",
    "tf.reset_default_graph()\n",
    "tests.test_nn_image_inputs(neural_net_image_input)\n",
    "tests.test_nn_label_inputs(neural_net_label_input)\n",
    "tests.test_nn_keep_prob_inputs(neural_net_keep_prob_input)"
   ]
  },
  {
   "cell_type": "markdown",
   "metadata": {},
   "source": [
    "### Convolution and Max Pooling Layer\n",
    "Convolution layers have a lot of success with images. For this code cell, you should implement the function `conv2d_maxpool` to apply convolution then max pooling:\n",
    "* Create the weight and bias using `conv_ksize`, `conv_num_outputs` and the shape of `x_tensor`.\n",
    "* Apply a convolution to `x_tensor` using weight and `conv_strides`.\n",
    " * We recommend you use same padding, but you're welcome to use any padding.\n",
    "* Add bias\n",
    "* Add a nonlinear activation to the convolution.\n",
    "* Apply Max Pooling using `pool_ksize` and `pool_strides`.\n",
    " * We recommend you use same padding, but you're welcome to use any padding.\n",
    "\n",
    "**Note:** You **can't** use [TensorFlow Layers](https://www.tensorflow.org/api_docs/python/tf/layers) or [TensorFlow Layers (contrib)](https://www.tensorflow.org/api_guides/python/contrib.layers) for **this** layer, but you can still use TensorFlow's [Neural Network](https://www.tensorflow.org/api_docs/python/tf/nn) package. You may still use the shortcut option for all the **other** layers."
   ]
  },
  {
   "cell_type": "code",
   "execution_count": 4,
   "metadata": {
    "collapsed": false
   },
   "outputs": [
    {
     "name": "stdout",
     "output_type": "stream",
     "text": [
      "Tests Passed\n"
     ]
    }
   ],
   "source": [
    "def conv2d_maxpool(x_tensor, conv_num_outputs, conv_ksize, conv_strides, pool_ksize, pool_strides):\n",
    "    \"\"\"\n",
    "    Apply convolution then max pooling to x_tensor\n",
    "    :param x_tensor: TensorFlow Tensor\n",
    "    :param conv_num_outputs: Number of outputs for the convolutional layer\n",
    "    :param conv_ksize: kernal size 2-D Tuple for the convolutional layer\n",
    "    :param conv_strides: Stride 2-D Tuple for convolution\n",
    "    :param pool_ksize: kernal size 2-D Tuple for pool\n",
    "    :param pool_strides: Stride 2-D Tuple for pool\n",
    "    : return: A tensor that represents convolution and max pooling of x_tensor\n",
    "    \"\"\"\n",
    "    # Weight \n",
    "    weights = tf.Variable(tf.truncated_normal([conv_ksize[0],\n",
    "                                              conv_ksize[1],\n",
    "                                              x_tensor.shape[3].value,conv_num_outputs]))\n",
    "    \n",
    "    # Bias\n",
    "    biases = tf.Variable(tf.zeros(conv_num_outputs), dtype = tf.float32) \n",
    "    \n",
    "    # Apply a convolution \n",
    "    conv_layer = tf.nn.conv2d(x_tensor,weights,\n",
    "                              strides=[1, conv_strides[0], conv_strides[1], 1],\n",
    "                              padding=\"SAME\")\n",
    "    \n",
    "    # Add bias \n",
    "    conv_layer = tf.nn.bias_add(conv_layer,biases)\n",
    "    \n",
    "    # Non-Linear Activation Function\n",
    "    conv_layer = tf.nn.relu(conv_layer)\n",
    "    \n",
    "    # Appy Max-Pooling \n",
    "    conv_layer = tf.nn.max_pool(conv_layer,\n",
    "                                ksize=[1,pool_ksize[0],pool_ksize[1],1],\n",
    "                                strides=[1,pool_strides[0],pool_strides[1],1],\n",
    "                                padding=\"SAME\")\n",
    "    return conv_layer \n",
    "\n",
    "\n",
    "\"\"\"\n",
    "DON'T MODIFY ANYTHING IN THIS CELL THAT IS BELOW THIS LINE\n",
    "\"\"\"\n",
    "tests.test_con_pool(conv2d_maxpool)"
   ]
  },
  {
   "cell_type": "markdown",
   "metadata": {},
   "source": [
    "### Flatten Layer\n",
    "Implement the `flatten` function to change the dimension of `x_tensor` from a 4-D tensor to a 2-D tensor.  The output should be the shape (*Batch Size*, *Flattened Image Size*). Shortcut option: you can use classes from the [TensorFlow Layers](https://www.tensorflow.org/api_docs/python/tf/layers) or [TensorFlow Layers (contrib)](https://www.tensorflow.org/api_guides/python/contrib.layers) packages for this layer. For more of a challenge, only use other TensorFlow packages."
   ]
  },
  {
   "cell_type": "code",
   "execution_count": 5,
   "metadata": {
    "collapsed": false
   },
   "outputs": [
    {
     "name": "stdout",
     "output_type": "stream",
     "text": [
      "Tests Passed\n"
     ]
    }
   ],
   "source": [
    "import numpy as np \n",
    "\n",
    "def flatten(x_tensor):\n",
    "    \"\"\"\n",
    "    Flatten x_tensor to (Batch Size, Flattened Image Size)\n",
    "    : x_tensor: A tensor of size (Batch Size, ...), where ... are the image dimensions.\n",
    "    : return: A tensor of size (Batch Size, Flattened Image Size).\n",
    "    \"\"\"\n",
    "    # Get tensor_shape as list , as_list \n",
    "    x_tensor_shape = x_tensor.get_shape().as_list()\n",
    "    \n",
    "    # Get the length of the flatten, prod() return the product of the element in the array \n",
    "    flattened_image_size = np.array(x_tensor_shape[1:]).prod()\n",
    "\n",
    "    # modified tensor , tf.reshape(tensor,shape,name)\n",
    "    modified_tensor = tf.reshape(x_tensor,[tf.shape(x_tensor)[0], flattened_image_size])\n",
    "    return modified_tensor\n",
    "\n",
    "\n",
    "\"\"\"\n",
    "DON'T MODIFY ANYTHING IN THIS CELL THAT IS BELOW THIS LINE\n",
    "\"\"\"\n",
    "tests.test_flatten(flatten)"
   ]
  },
  {
   "cell_type": "markdown",
   "metadata": {},
   "source": [
    "### Fully-Connected Layer\n",
    "Implement the `fully_conn` function to apply a fully connected layer to `x_tensor` with the shape (*Batch Size*, *num_outputs*). Shortcut option: you can use classes from the [TensorFlow Layers](https://www.tensorflow.org/api_docs/python/tf/layers) or [TensorFlow Layers (contrib)](https://www.tensorflow.org/api_guides/python/contrib.layers) packages for this layer. For more of a challenge, only use other TensorFlow packages."
   ]
  },
  {
   "cell_type": "code",
   "execution_count": 6,
   "metadata": {
    "collapsed": false
   },
   "outputs": [
    {
     "name": "stdout",
     "output_type": "stream",
     "text": [
      "Tests Passed\n"
     ]
    }
   ],
   "source": [
    "def fully_conn(x_tensor, num_outputs):\n",
    "    \"\"\"\n",
    "    Apply a fully connected layer to x_tensor using weight and bias\n",
    "    : x_tensor: A 2-D tensor where the first dimension is batch size.\n",
    "    : num_outputs: The number of output that the new tensor should be.\n",
    "    : return: A 2-D tensor where the second dimension is num_outputs.\n",
    "    \"\"\"\n",
    "    #Count of Features \n",
    "    count_of_features = x_tensor.shape[1].value\n",
    "    \n",
    "    # Weights, set standard deviation \n",
    "    weights = tf.Variable(tf.truncated_normal([count_of_features,num_outputs]))\n",
    "    \n",
    "    # Bias \n",
    "    biases = tf.Variable(tf.zeros([num_outputs]))\n",
    "    \n",
    "    #full Connected Layer, xW + b  \n",
    "    fully_connected_layer = tf.add(tf.matmul(x_tensor,weights), biases)\n",
    "    \n",
    "    #Non-Linear Activation function \n",
    "    fully_connected_layer = tf.nn.relu(fully_connected_layer)\n",
    "    return fully_connected_layer\n",
    "\n",
    "\n",
    "\"\"\"\n",
    "DON'T MODIFY ANYTHING IN THIS CELL THAT IS BELOW THIS LINE\n",
    "\"\"\"\n",
    "tests.test_fully_conn(fully_conn)"
   ]
  },
  {
   "cell_type": "markdown",
   "metadata": {},
   "source": [
    "### Output Layer\n",
    "Implement the `output` function to apply a fully connected layer to `x_tensor` with the shape (*Batch Size*, *num_outputs*). Shortcut option: you can use classes from the [TensorFlow Layers](https://www.tensorflow.org/api_docs/python/tf/layers) or [TensorFlow Layers (contrib)](https://www.tensorflow.org/api_guides/python/contrib.layers) packages for this layer. For more of a challenge, only use other TensorFlow packages.\n",
    "\n",
    "**Note:** Activation, softmax, or cross entropy should **not** be applied to this."
   ]
  },
  {
   "cell_type": "code",
   "execution_count": 7,
   "metadata": {
    "collapsed": false
   },
   "outputs": [
    {
     "name": "stdout",
     "output_type": "stream",
     "text": [
      "Tests Passed\n"
     ]
    }
   ],
   "source": [
    "def output(x_tensor, num_outputs):\n",
    "    \"\"\"\n",
    "    Apply a output layer to x_tensor using weight and bias\n",
    "    : x_tensor: A 2-D tensor where the first dimension is batch size.\n",
    "    : num_outputs: The number of output that the new tensor should be.\n",
    "    : return: A 2-D tensor where the second dimension is num_outputs.\n",
    "    \"\"\"\n",
    "    # count of features  \n",
    "    count_of_features  = x_tensor.shape[1].value\n",
    "    \n",
    "    # weight\n",
    "    weights = tf.Variable(tf.truncated_normal([count_of_features,num_outputs]))\n",
    "    \n",
    "    # Bias\n",
    "    biases = tf.Variable(tf.zeros([num_outputs]))\n",
    "    \n",
    "    #Output layer \n",
    "    output_layer = tf.add(tf.matmul(x_tensor,weights),biases)\n",
    "    \n",
    "    return output_layer\n",
    "\n",
    "\n",
    "\"\"\"\n",
    "DON'T MODIFY ANYTHING IN THIS CELL THAT IS BELOW THIS LINE\n",
    "\"\"\"\n",
    "tests.test_output(output)"
   ]
  },
  {
   "cell_type": "markdown",
   "metadata": {},
   "source": [
    "### Create Convolutional Model\n",
    "Implement the function `conv_net` to create a convolutional neural network model. The function takes in a batch of images, `x`, and outputs logits.  Use the layers you created above to create this model:\n",
    "\n",
    "* Apply 1, 2, or 3 Convolution and Max Pool layers\n",
    "* Apply a Flatten Layer\n",
    "* Apply 1, 2, or 3 Fully Connected Layers\n",
    "* Apply an Output Layer\n",
    "* Return the output\n",
    "* Apply [TensorFlow's Dropout](https://www.tensorflow.org/api_docs/python/tf/nn/dropout) to one or more layers in the model using `keep_prob`. "
   ]
  },
  {
   "cell_type": "code",
   "execution_count": 8,
   "metadata": {
    "collapsed": false
   },
   "outputs": [
    {
     "name": "stdout",
     "output_type": "stream",
     "text": [
      "Neural Network Built!\n"
     ]
    }
   ],
   "source": [
    "def conv_net(x, keep_prob):\n",
    "    \"\"\"\n",
    "    Create a convolutional neural network model\n",
    "    : x: Placeholder tensor that holds image data.\n",
    "    : keep_prob: Placeholder tensor that hold dropout keep probability.\n",
    "    : return: Tensor that represents logits\n",
    "    \"\"\"\n",
    "    # TODO: Apply 1, 2, or 3 Convolution and Max Pool layers\n",
    "    #    Play around with different number of outputs, kernel size and stride\n",
    "    # Function Definition from Above:\n",
    "    #    conv2d_maxpool(x_tensor, conv_num_outputs, conv_ksize, conv_strides, pool_ksize, pool_strides)\n",
    "    \n",
    "    x = conv2d_maxpool(x,50,(5,5),(1,1),(2,2),(2,2))\n",
    "    x = conv2d_maxpool(x,50,(4,4),(1,1),(2,2),(2,2))\n",
    "      \n",
    "\n",
    "    # TODO: Apply a Flatten Layer\n",
    "    # Function Definition from Above:\n",
    "    #   flatten(x_tensor)\n",
    "    x = flatten(x)\n",
    "\n",
    "    # TODO: Apply 1, 2, or 3 Fully Connected Layers\n",
    "    #    Play around with different number of outputs\n",
    "    # Function Definition from Above:\n",
    "    #   fully_conn(x_tensor, num_outputs)\n",
    "    x = fully_conn(x,700)\n",
    "    x = fully_conn(x,350)\n",
    "    \n",
    "    x = tf.nn.dropout(x,keep_prob)\n",
    "   \n",
    "\n",
    "    # TODO: Apply an Output Layer\n",
    "    #    Set this to the number of classes\n",
    "    # Function Definition from Above:\n",
    "    #   output(x_tensor, num_outputs)\n",
    "    x = output(x,10)\n",
    "    \n",
    "    # TODO: return output\n",
    "    return x\n",
    "\n",
    "\n",
    "\"\"\"\n",
    "DON'T MODIFY ANYTHING IN THIS CELL THAT IS BELOW THIS LINE\n",
    "\"\"\"\n",
    "\n",
    "##############################\n",
    "## Build the Neural Network ##\n",
    "##############################\n",
    "\n",
    "# Remove previous weights, bias, inputs, etc..\n",
    "tf.reset_default_graph()\n",
    "\n",
    "# Inputs\n",
    "x = neural_net_image_input((32, 32, 3))\n",
    "y = neural_net_label_input(10)\n",
    "keep_prob = neural_net_keep_prob_input()\n",
    "\n",
    "# Model\n",
    "logits = conv_net(x, keep_prob)\n",
    "\n",
    "# Name logits Tensor, so that is can be loaded from disk after training\n",
    "logits = tf.identity(logits, name='logits')\n",
    "\n",
    "# Loss and Optimizer\n",
    "cost = tf.reduce_mean(tf.nn.softmax_cross_entropy_with_logits(logits=logits, labels=y))\n",
    "optimizer = tf.train.AdamOptimizer().minimize(cost)\n",
    "\n",
    "# Accuracy\n",
    "correct_pred = tf.equal(tf.argmax(logits, 1), tf.argmax(y, 1))\n",
    "accuracy = tf.reduce_mean(tf.cast(correct_pred, tf.float32), name='accuracy')\n",
    "\n",
    "tests.test_conv_net(conv_net)"
   ]
  },
  {
   "cell_type": "markdown",
   "metadata": {},
   "source": [
    "## Train the Neural Network\n",
    "### Single Optimization\n",
    "Implement the function `train_neural_network` to do a single optimization.  The optimization should use `optimizer` to optimize in `session` with a `feed_dict` of the following:\n",
    "* `x` for image input\n",
    "* `y` for labels\n",
    "* `keep_prob` for keep probability for dropout\n",
    "\n",
    "This function will be called for each batch, so `tf.global_variables_initializer()` has already been called.\n",
    "\n",
    "Note: Nothing needs to be returned. This function is only optimizing the neural network."
   ]
  },
  {
   "cell_type": "code",
   "execution_count": 9,
   "metadata": {
    "collapsed": false
   },
   "outputs": [
    {
     "name": "stdout",
     "output_type": "stream",
     "text": [
      "Tests Passed\n"
     ]
    }
   ],
   "source": [
    "def train_neural_network(session, optimizer, keep_probability, feature_batch, label_batch):\n",
    "    \"\"\"\n",
    "    Optimize the session on a batch of images and labels\n",
    "    : session: Current TensorFlow session\n",
    "    : optimizer: TensorFlow optimizer function\n",
    "    : keep_probability: keep probability\n",
    "    : feature_batch: Batch of Numpy image data\n",
    "    : label_batch: Batch of Numpy label data\n",
    "    \"\"\"\n",
    "    # TODO: Implement Function\n",
    "    session.run(optimizer, feed_dict={\n",
    "                    x : feature_batch,\n",
    "                    y : label_batch,\n",
    "                    keep_prob : keep_probability\n",
    "    })\n",
    "    \n",
    "\n",
    "\n",
    "\"\"\"\n",
    "DON'T MODIFY ANYTHING IN THIS CELL THAT IS BELOW THIS LINE\n",
    "\"\"\"\n",
    "tests.test_train_nn(train_neural_network)"
   ]
  },
  {
   "cell_type": "markdown",
   "metadata": {},
   "source": [
    "### Show Stats\n",
    "Implement the function `print_stats` to print loss and validation accuracy.  Use the global variables `valid_features` and `valid_labels` to calculate validation accuracy.  Use a keep probability of `1.0` to calculate the loss and validation accuracy."
   ]
  },
  {
   "cell_type": "code",
   "execution_count": 10,
   "metadata": {
    "collapsed": true
   },
   "outputs": [],
   "source": [
    "def print_stats(session, feature_batch, label_batch, cost, accuracy):\n",
    "    \"\"\"\n",
    "    Print information about loss and validation accuracy\n",
    "    : session: Current TensorFlow session\n",
    "    : feature_batch: Batch of Numpy image data\n",
    "    : label_batch: Batch of Numpy label data\n",
    "    : cost: TensorFlow cost function\n",
    "    : accuracy: TensorFlow accuracy function\n",
    "    \"\"\"\n",
    "    # TODO: Implement Function\n",
    "    print_loss = session.run(cost, feed_dict={\n",
    "        x : feature_batch,\n",
    "        y : label_batch,\n",
    "        keep_prob : 1.0\n",
    "    })\n",
    "    \n",
    "    validation_accuracy = session.run(accuracy, feed_dict={\n",
    "        x : valid_features,\n",
    "        y : valid_labels,\n",
    "        keep_prob : 1.0\n",
    "    })\n",
    "    \n",
    "    print(\"Print-Loss : {: 1f}, Validation-Accuracy : {: 1f}\".format(print_loss, validation_accuracy))"
   ]
  },
  {
   "cell_type": "markdown",
   "metadata": {},
   "source": [
    "### Hyperparameters\n",
    "Tune the following parameters:\n",
    "* Set `epochs` to the number of iterations until the network stops learning or start overfitting\n",
    "* Set `batch_size` to the highest number that your machine has memory for.  Most people set them to common sizes of memory:\n",
    " * 64\n",
    " * 128\n",
    " * 256\n",
    " * ...\n",
    "* Set `keep_probability` to the probability of keeping a node using dropout"
   ]
  },
  {
   "cell_type": "code",
   "execution_count": 11,
   "metadata": {
    "collapsed": true
   },
   "outputs": [],
   "source": [
    "# TODO: Tune Parameters\n",
    "epochs = 32\n",
    "batch_size = 256\n",
    "keep_probability = 0.9"
   ]
  },
  {
   "cell_type": "markdown",
   "metadata": {},
   "source": [
    "### Train on a Single CIFAR-10 Batch\n",
    "Instead of training the neural network on all the CIFAR-10 batches of data, let's use a single batch. This should save time while you iterate on the model to get a better accuracy.  Once the final validation accuracy is 50% or greater, run the model on all the data in the next section."
   ]
  },
  {
   "cell_type": "code",
   "execution_count": null,
   "metadata": {
    "collapsed": false
   },
   "outputs": [
    {
     "name": "stdout",
     "output_type": "stream",
     "text": [
      "Checking the Training on a Single Batch...\n",
      "Epoch  1, CIFAR-10 Batch 1:  Print-Loss :  87208.148438, Validation-Accuracy :  0.229200\n",
      "Epoch  2, CIFAR-10 Batch 1:  Print-Loss :  44454.957031, Validation-Accuracy :  0.244000\n",
      "Epoch  3, CIFAR-10 Batch 1:  Print-Loss :  29828.824219, Validation-Accuracy :  0.259400\n",
      "Epoch  4, CIFAR-10 Batch 1:  Print-Loss :  18767.218750, Validation-Accuracy :  0.254800\n",
      "Epoch  5, CIFAR-10 Batch 1:  Print-Loss :  12822.701172, Validation-Accuracy :  0.251600\n",
      "Epoch  6, CIFAR-10 Batch 1:  Print-Loss :  7042.192383, Validation-Accuracy :  0.247000\n",
      "Epoch  7, CIFAR-10 Batch 1:  Print-Loss :  5429.708496, Validation-Accuracy :  0.226200\n",
      "Epoch  8, CIFAR-10 Batch 1:  Print-Loss :  3162.792236, Validation-Accuracy :  0.186600\n",
      "Epoch  9, CIFAR-10 Batch 1:  Print-Loss :  1606.453125, Validation-Accuracy :  0.134200\n",
      "Epoch 10, CIFAR-10 Batch 1:  Print-Loss :  831.726685, Validation-Accuracy :  0.119200\n",
      "Epoch 11, CIFAR-10 Batch 1:  Print-Loss :  609.414978, Validation-Accuracy :  0.109800\n",
      "Epoch 12, CIFAR-10 Batch 1:  Print-Loss :  447.935059, Validation-Accuracy :  0.106400\n",
      "Epoch 13, CIFAR-10 Batch 1:  Print-Loss :  291.223450, Validation-Accuracy :  0.104000\n",
      "Epoch 14, CIFAR-10 Batch 1:  Print-Loss :  148.770020, Validation-Accuracy :  0.103600\n",
      "Epoch 15, CIFAR-10 Batch 1:  Print-Loss :  70.656021, Validation-Accuracy :  0.102600\n",
      "Epoch 16, CIFAR-10 Batch 1:  Print-Loss :  12.630406, Validation-Accuracy :  0.101800\n",
      "Epoch 17, CIFAR-10 Batch 1:  Print-Loss :  8.021196, Validation-Accuracy :  0.102000\n",
      "Epoch 18, CIFAR-10 Batch 1:  Print-Loss :  6.440495, Validation-Accuracy :  0.102400\n",
      "Epoch 19, CIFAR-10 Batch 1:  Print-Loss :  5.843114, Validation-Accuracy :  0.102400\n",
      "Epoch 20, CIFAR-10 Batch 1:  Print-Loss :  4.359051, Validation-Accuracy :  0.103000\n",
      "Epoch 21, CIFAR-10 Batch 1:  Print-Loss :  3.413216, Validation-Accuracy :  0.103000\n",
      "Epoch 22, CIFAR-10 Batch 1:  Print-Loss :  2.457563, Validation-Accuracy :  0.109600\n",
      "Epoch 23, CIFAR-10 Batch 1:  Print-Loss :  2.189809, Validation-Accuracy :  0.109400\n",
      "Epoch 24, CIFAR-10 Batch 1:  Print-Loss :  2.189533, Validation-Accuracy :  0.109200\n",
      "Epoch 25, CIFAR-10 Batch 1:  Print-Loss :  2.739184, Validation-Accuracy :  0.108800\n",
      "Epoch 26, CIFAR-10 Batch 1:  Print-Loss :  2.188998, Validation-Accuracy :  0.109200\n"
     ]
    }
   ],
   "source": [
    "\"\"\"\n",
    "DON'T MODIFY ANYTHING IN THIS CELL\n",
    "\"\"\"\n",
    "print('Checking the Training on a Single Batch...')\n",
    "with tf.Session() as sess:\n",
    "    # Initializing the variables\n",
    "    sess.run(tf.global_variables_initializer())\n",
    "    \n",
    "    # Training cycle\n",
    "    for epoch in range(epochs):\n",
    "        batch_i = 1\n",
    "        for batch_features, batch_labels in helper.load_preprocess_training_batch(batch_i, batch_size):\n",
    "            train_neural_network(sess, optimizer, keep_probability, batch_features, batch_labels)\n",
    "        print('Epoch {:>2}, CIFAR-10 Batch {}:  '.format(epoch + 1, batch_i), end='')\n",
    "        print_stats(sess, batch_features, batch_labels, cost, accuracy)"
   ]
  },
  {
   "cell_type": "markdown",
   "metadata": {},
   "source": [
    "### Fully Train the Model\n",
    "Now that you got a good accuracy with a single CIFAR-10 batch, try it with all five batches."
   ]
  },
  {
   "cell_type": "code",
   "execution_count": 17,
   "metadata": {
    "collapsed": false
   },
   "outputs": [
    {
     "name": "stdout",
     "output_type": "stream",
     "text": [
      "Training...\n",
      "Epoch  1, CIFAR-10 Batch 1:  Print-Loss : 5731.661133, Validation-Accuracy :  6001.740234\n",
      "Epoch  1, CIFAR-10 Batch 2:  Print-Loss : 2998.947021, Validation-Accuracy :  2934.319092\n",
      "Epoch  1, CIFAR-10 Batch 3:  Print-Loss : 3922.739258, Validation-Accuracy :  3857.620850\n",
      "Epoch  1, CIFAR-10 Batch 4:  Print-Loss : 2644.996582, Validation-Accuracy :  2640.964111\n",
      "Epoch  1, CIFAR-10 Batch 5:  Print-Loss : 2178.138672, Validation-Accuracy :  2201.155518\n",
      "Epoch  2, CIFAR-10 Batch 1:  Print-Loss : 2343.015137, Validation-Accuracy :  2365.688477\n",
      "Epoch  2, CIFAR-10 Batch 2:  Print-Loss : 1958.931885, Validation-Accuracy :  1994.970825\n",
      "Epoch  2, CIFAR-10 Batch 3:  Print-Loss : 1694.190308, Validation-Accuracy :  1700.089355\n",
      "Epoch  2, CIFAR-10 Batch 4:  Print-Loss : 1599.987427, Validation-Accuracy :  1639.506226\n",
      "Epoch  2, CIFAR-10 Batch 5:  Print-Loss : 1571.441040, Validation-Accuracy :  1567.020752\n",
      "Epoch  3, CIFAR-10 Batch 1:  Print-Loss : 1546.943115, Validation-Accuracy :  1512.551392\n",
      "Epoch  3, CIFAR-10 Batch 2:  Print-Loss : 1448.996582, Validation-Accuracy :  1437.019409\n",
      "Epoch  3, CIFAR-10 Batch 3:  Print-Loss : 1339.887573, Validation-Accuracy :  1362.550781\n",
      "Epoch  3, CIFAR-10 Batch 4:  Print-Loss : 1277.549072, Validation-Accuracy :  1308.551758\n",
      "Epoch  3, CIFAR-10 Batch 5:  Print-Loss : 1295.704224, Validation-Accuracy :  1282.893555\n",
      "Epoch  4, CIFAR-10 Batch 1:  Print-Loss : 1265.528687, Validation-Accuracy :  1231.575195\n",
      "Epoch  4, CIFAR-10 Batch 2:  Print-Loss : 1191.123291, Validation-Accuracy :  1170.839844\n",
      "Epoch  4, CIFAR-10 Batch 3:  Print-Loss : 1114.478516, Validation-Accuracy :  1130.043701\n",
      "Epoch  4, CIFAR-10 Batch 4:  Print-Loss : 1072.899902, Validation-Accuracy :  1108.295166\n",
      "Epoch  4, CIFAR-10 Batch 5:  Print-Loss : 1063.973022, Validation-Accuracy :  1071.313843\n",
      "Epoch  5, CIFAR-10 Batch 1:  Print-Loss : 1053.838257, Validation-Accuracy :  1032.017578\n",
      "Epoch  5, CIFAR-10 Batch 2:  Print-Loss : 1000.545654, Validation-Accuracy :  983.231812\n",
      "Epoch  5, CIFAR-10 Batch 3:  Print-Loss : 929.544373, Validation-Accuracy :  945.787598\n",
      "Epoch  5, CIFAR-10 Batch 4:  Print-Loss : 886.478516, Validation-Accuracy :  923.019592\n",
      "Epoch  5, CIFAR-10 Batch 5:  Print-Loss : 890.179382, Validation-Accuracy :  888.486389\n",
      "Epoch  6, CIFAR-10 Batch 1:  Print-Loss : 855.918335, Validation-Accuracy :  852.102417\n",
      "Epoch  6, CIFAR-10 Batch 2:  Print-Loss : 824.509460, Validation-Accuracy :  809.937195\n",
      "Epoch  6, CIFAR-10 Batch 3:  Print-Loss : 753.118042, Validation-Accuracy :  771.578613\n",
      "Epoch  6, CIFAR-10 Batch 4:  Print-Loss : 693.415771, Validation-Accuracy :  743.187622\n",
      "Epoch  6, CIFAR-10 Batch 5:  Print-Loss : 720.974915, Validation-Accuracy :  709.069702\n",
      "Epoch  7, CIFAR-10 Batch 1:  Print-Loss : 668.628784, Validation-Accuracy :  674.497559\n",
      "Epoch  7, CIFAR-10 Batch 2:  Print-Loss : 659.211243, Validation-Accuracy :  640.874390\n",
      "Epoch  7, CIFAR-10 Batch 3:  Print-Loss : 588.013611, Validation-Accuracy :  608.543213\n",
      "Epoch  7, CIFAR-10 Batch 4:  Print-Loss : 549.213074, Validation-Accuracy :  579.375732\n",
      "Epoch  7, CIFAR-10 Batch 5:  Print-Loss : 549.311340, Validation-Accuracy :  549.345764\n",
      "Epoch  8, CIFAR-10 Batch 1:  Print-Loss : 505.470490, Validation-Accuracy :  517.707703\n",
      "Epoch  8, CIFAR-10 Batch 2:  Print-Loss : 500.390961, Validation-Accuracy :  489.740387\n",
      "Epoch  8, CIFAR-10 Batch 3:  Print-Loss : 452.055237, Validation-Accuracy :  464.071503\n",
      "Epoch  8, CIFAR-10 Batch 4:  Print-Loss : 408.883972, Validation-Accuracy :  436.232788\n",
      "Epoch  8, CIFAR-10 Batch 5:  Print-Loss : 395.826996, Validation-Accuracy :  409.716736\n",
      "Epoch  9, CIFAR-10 Batch 1:  Print-Loss : 372.977905, Validation-Accuracy :  381.524292\n",
      "Epoch  9, CIFAR-10 Batch 2:  Print-Loss : 345.897369, Validation-Accuracy :  350.617188\n",
      "Epoch  9, CIFAR-10 Batch 3:  Print-Loss : 308.685059, Validation-Accuracy :  318.937347\n",
      "Epoch  9, CIFAR-10 Batch 4:  Print-Loss : 282.930359, Validation-Accuracy :  290.931976\n",
      "Epoch  9, CIFAR-10 Batch 5:  Print-Loss : 241.279465, Validation-Accuracy :  265.394440\n",
      "Epoch 10, CIFAR-10 Batch 1:  Print-Loss : 235.493546, Validation-Accuracy :  238.128799\n",
      "Epoch 10, CIFAR-10 Batch 2:  Print-Loss : 198.397018, Validation-Accuracy :  208.469131\n",
      "Epoch 10, CIFAR-10 Batch 3:  Print-Loss : 179.927582, Validation-Accuracy :  180.722214\n",
      "Epoch 10, CIFAR-10 Batch 4:  Print-Loss : 152.478409, Validation-Accuracy :  156.696106\n",
      "Epoch 10, CIFAR-10 Batch 5:  Print-Loss : 122.999229, Validation-Accuracy :  135.605850\n",
      "Epoch 11, CIFAR-10 Batch 1:  Print-Loss : 119.288620, Validation-Accuracy :  116.410248\n",
      "Epoch 11, CIFAR-10 Batch 2:  Print-Loss : 99.271454, Validation-Accuracy :  100.161140\n",
      "Epoch 11, CIFAR-10 Batch 3:  Print-Loss : 79.509773, Validation-Accuracy :  86.328316\n",
      "Epoch 11, CIFAR-10 Batch 4:  Print-Loss : 73.457016, Validation-Accuracy :  74.442841\n",
      "Epoch 11, CIFAR-10 Batch 5:  Print-Loss : 52.718391, Validation-Accuracy :  64.376297\n",
      "Epoch 12, CIFAR-10 Batch 1:  Print-Loss : 59.124210, Validation-Accuracy :  56.216431\n",
      "Epoch 12, CIFAR-10 Batch 2:  Print-Loss : 49.818672, Validation-Accuracy :  49.308807\n",
      "Epoch 12, CIFAR-10 Batch 3:  Print-Loss : 38.514915, Validation-Accuracy :  43.671150\n",
      "Epoch 12, CIFAR-10 Batch 4:  Print-Loss : 39.466339, Validation-Accuracy :  39.031101\n",
      "Epoch 12, CIFAR-10 Batch 5:  Print-Loss : 29.631399, Validation-Accuracy :  35.135311\n",
      "Epoch 13, CIFAR-10 Batch 1:  Print-Loss : 35.403675, Validation-Accuracy :  31.740175\n",
      "Epoch 13, CIFAR-10 Batch 2:  Print-Loss : 29.260561, Validation-Accuracy :  28.887537\n",
      "Epoch 13, CIFAR-10 Batch 3:  Print-Loss : 22.391031, Validation-Accuracy :  26.548094\n",
      "Epoch 13, CIFAR-10 Batch 4:  Print-Loss : 25.574211, Validation-Accuracy :  24.554640\n",
      "Epoch 13, CIFAR-10 Batch 5:  Print-Loss : 18.416950, Validation-Accuracy :  22.876097\n",
      "Epoch 14, CIFAR-10 Batch 1:  Print-Loss : 22.845791, Validation-Accuracy :  21.404566\n",
      "Epoch 14, CIFAR-10 Batch 2:  Print-Loss : 20.694283, Validation-Accuracy :  20.084003\n",
      "Epoch 14, CIFAR-10 Batch 3:  Print-Loss : 15.098078, Validation-Accuracy :  18.929096\n",
      "Epoch 14, CIFAR-10 Batch 4:  Print-Loss : 19.210808, Validation-Accuracy :  17.894394\n",
      "Epoch 14, CIFAR-10 Batch 5:  Print-Loss : 13.388744, Validation-Accuracy :  17.020416\n",
      "Epoch 15, CIFAR-10 Batch 1:  Print-Loss : 16.495378, Validation-Accuracy :  16.243088\n",
      "Epoch 15, CIFAR-10 Batch 2:  Print-Loss : 16.088146, Validation-Accuracy :  15.530623\n",
      "Epoch 15, CIFAR-10 Batch 3:  Print-Loss : 11.101017, Validation-Accuracy :  14.904897\n",
      "Epoch 15, CIFAR-10 Batch 4:  Print-Loss : 15.355089, Validation-Accuracy :  14.304564\n",
      "Epoch 15, CIFAR-10 Batch 5:  Print-Loss : 10.484401, Validation-Accuracy :  13.776793\n",
      "Epoch 16, CIFAR-10 Batch 1:  Print-Loss : 12.662127, Validation-Accuracy :  13.324718\n",
      "Epoch 16, CIFAR-10 Batch 2:  Print-Loss : 13.030416, Validation-Accuracy :  12.922493\n",
      "Epoch 16, CIFAR-10 Batch 3:  Print-Loss : 8.470559, Validation-Accuracy :  12.560222\n",
      "Epoch 16, CIFAR-10 Batch 4:  Print-Loss : 12.778296, Validation-Accuracy :  12.209196\n",
      "Epoch 16, CIFAR-10 Batch 5:  Print-Loss : 8.572922, Validation-Accuracy :  11.847559\n"
     ]
    }
   ],
   "source": [
    "\"\"\"\n",
    "DON'T MODIFY ANYTHING IN THIS CELL\n",
    "\"\"\"\n",
    "save_model_path = './image_classification'\n",
    "\n",
    "print('Training...')\n",
    "with tf.Session() as sess:\n",
    "    # Initializing the variables\n",
    "    sess.run(tf.global_variables_initializer())\n",
    "    \n",
    "    # Training cycle\n",
    "    for epoch in range(epochs):\n",
    "        # Loop over all batches\n",
    "        n_batches = 5\n",
    "        for batch_i in range(1, n_batches + 1):\n",
    "            for batch_features, batch_labels in helper.load_preprocess_training_batch(batch_i, batch_size):\n",
    "                train_neural_network(sess, optimizer, keep_probability, batch_features, batch_labels)\n",
    "            print('Epoch {:>2}, CIFAR-10 Batch {}:  '.format(epoch + 1, batch_i), end='')\n",
    "            print_stats(sess, batch_features, batch_labels, cost, accuracy)\n",
    "            \n",
    "    # Save Model\n",
    "    saver = tf.train.Saver()\n",
    "    save_path = saver.save(sess, save_model_path)"
   ]
  },
  {
   "cell_type": "markdown",
   "metadata": {},
   "source": [
    "# Checkpoint\n",
    "The model has been saved to disk.\n",
    "## Test Model\n",
    "Test your model against the test dataset.  This will be your final accuracy. You should have an accuracy greater than 50%. If you don't, keep tweaking the model architecture and parameters."
   ]
  },
  {
   "cell_type": "code",
   "execution_count": 18,
   "metadata": {
    "collapsed": false
   },
   "outputs": [
    {
     "name": "stdout",
     "output_type": "stream",
     "text": [
      "Testing Accuracy: 0.119400754570961\n",
      "\n"
     ]
    },
    {
     "data": {
      "image/png": "[encoded data removed]",
      "text/plain": [
       "<matplotlib.figure.Figure at 0xb51ac50>"
      ]
     },
     "metadata": {
      "image/png": {
       "height": 319,
       "width": 355
      }
     },
     "output_type": "display_data"
    }
   ],
   "source": [
    "\"\"\"\n",
    "DON'T MODIFY ANYTHING IN THIS CELL\n",
    "\"\"\"\n",
    "%matplotlib inline\n",
    "%config InlineBackend.figure_format = 'retina'\n",
    "\n",
    "import tensorflow as tf\n",
    "import pickle\n",
    "import helper\n",
    "import random\n",
    "\n",
    "# Set batch size if not already set\n",
    "try:\n",
    "    if batch_size:\n",
    "        pass\n",
    "except NameError:\n",
    "    batch_size = 64\n",
    "\n",
    "save_model_path = './image_classification'\n",
    "n_samples = 4\n",
    "top_n_predictions = 3\n",
    "\n",
    "def test_model():\n",
    "    \"\"\"\n",
    "    Test the saved model against the test dataset\n",
    "    \"\"\"\n",
    "\n",
    "    test_features, test_labels = pickle.load(open('preprocess_test.p', mode='rb'))\n",
    "    loaded_graph = tf.Graph()\n",
    "\n",
    "    with tf.Session(graph=loaded_graph) as sess:\n",
    "        # Load model\n",
    "        loader = tf.train.import_meta_graph(save_model_path + '.meta')\n",
    "        loader.restore(sess, save_model_path)\n",
    "\n",
    "        # Get Tensors from loaded model\n",
    "        loaded_x = loaded_graph.get_tensor_by_name('x:0')\n",
    "        loaded_y = loaded_graph.get_tensor_by_name('y:0')\n",
    "        loaded_keep_prob = loaded_graph.get_tensor_by_name('keep_prob:0')\n",
    "        loaded_logits = loaded_graph.get_tensor_by_name('logits:0')\n",
    "        loaded_acc = loaded_graph.get_tensor_by_name('accuracy:0')\n",
    "        \n",
    "        # Get accuracy in batches for memory limitations\n",
    "        test_batch_acc_total = 0\n",
    "        test_batch_count = 0\n",
    "        \n",
    "        for test_feature_batch, test_label_batch in helper.batch_features_labels(test_features, test_labels, batch_size):\n",
    "            test_batch_acc_total += sess.run(\n",
    "                loaded_acc,\n",
    "                feed_dict={loaded_x: test_feature_batch, loaded_y: test_label_batch, loaded_keep_prob: 1.0})\n",
    "            test_batch_count += 1\n",
    "\n",
    "        print('Testing Accuracy: {}\\n'.format(test_batch_acc_total/test_batch_count))\n",
    "\n",
    "        # Print Random Samples\n",
    "        random_test_features, random_test_labels = tuple(zip(*random.sample(list(zip(test_features, test_labels)), n_samples)))\n",
    "        random_test_predictions = sess.run(\n",
    "            tf.nn.top_k(tf.nn.softmax(loaded_logits), top_n_predictions),\n",
    "            feed_dict={loaded_x: random_test_features, loaded_y: random_test_labels, loaded_keep_prob: 1.0})\n",
    "        helper.display_image_predictions(random_test_features, random_test_labels, random_test_predictions)\n",
    "\n",
    "\n",
    "test_model()"
   ]
  },
  {
   "cell_type": "markdown",
   "metadata": {},
   "source": [
    "## Why 50-80% Accuracy?\n",
    "You might be wondering why you can't get an accuracy any higher. First things first, 50% isn't bad for a simple CNN.  Pure guessing would get you 10% accuracy. However, you might notice people are getting scores [well above 80%](http://rodrigob.github.io/are_we_there_yet/build/classification_datasets_results.html#43494641522d3130).  That's because we haven't taught you all there is to know about neural networks. We still need to cover a few more techniques.\n",
    "## Submitting This Project\n",
    "When submitting this project, make sure to run all the cells before saving the notebook.  Save the notebook file as \"dlnd_image_classification.ipynb\" and save it as a HTML file under \"File\" -> \"Download as\".  Include the \"helper.py\" and \"problem_unittests.py\" files in your submission."
   ]
  }
 ],
 "metadata": {
  "kernelspec": {
   "display_name": "Python 3",
   "language": "python",
   "name": "python3"
  },
  "language_info": {
   "codemirror_mode": {
    "name": "ipython",
    "version": 3
   },
   "file_extension": ".py",
   "mimetype": "text/x-python",
   "name": "python",
   "nbconvert_exporter": "python",
   "pygments_lexer": "ipython3",
   "version": "3.5.2"
  }
 },
 "nbformat": 4,
 "nbformat_minor": 1
}
